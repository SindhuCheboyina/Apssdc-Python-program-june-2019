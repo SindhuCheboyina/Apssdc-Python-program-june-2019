{
 "cells": [
  {
   "cell_type": "markdown",
   "metadata": {},
   "source": [
    "### Date : 22 June 2019\n",
    "\n",
    "### Day Objectives\n",
    "\n",
    "- File Handling\n",
    "    - Basic File Data Processing\n",
    "        - Accessing and modifying file data\n",
    "    - Character count\n",
    "    - Line count\n",
    "    - File size\n",
    "    - word count\n",
    "    - Unique Word count"
   ]
  },
  {
   "cell_type": "code",
   "execution_count": 8,
   "metadata": {},
   "outputs": [
    {
     "name": "stdout",
     "output_type": "stream",
     "text": [
      "new data\n",
      "hhjjkj\n",
      "jjkk\n"
     ]
    }
   ],
   "source": [
    "# Read a file -file should exist(read Mode)\n",
    "# Write to a file - Existing(append) or new file(write mode)\n",
    "\n",
    "def readFile(filePath):\n",
    "    with open(filePath, 'r') as f:\n",
    "        #print(type(f))\n",
    "        filedata = f.read()\n",
    "    return filedata\n",
    "\n",
    "filePath = 'DataFiles/data.txt'\n",
    "print(readFile(filePath))"
   ]
  },
  {
   "cell_type": "code",
   "execution_count": 22,
   "metadata": {},
   "outputs": [],
   "source": [
    "def writeFile(filepath,filedata):\n",
    "    with open(filepath, 'a') as f:\n",
    "        for line in filedata:\n",
    "            f.write(line)\n",
    "    return\n",
    "filedata = [\"\\nsdfgasdgf\", \"\\ngdcyusdgyuds\\n\"]\n",
    "filepath ='DataFiles/data.txt'\n",
    "writeFile(filepath,filedata)"
   ]
  },
  {
   "cell_type": "code",
   "execution_count": 33,
   "metadata": {},
   "outputs": [],
   "source": [
    "def modifyFile(filepath,filedata):\n",
    "    with open(filepath, 'a') as f:\n",
    "        #file=f.read()\n",
    "        for line in filedata:\n",
    "            f.seek(0)\n",
    "        f.write(\"gfhsg\")\n",
    "    return\n",
    "filepath= 'DataFiles/data.txt'\n",
    "modifyFile(filepath,filedata)"
   ]
  },
  {
   "cell_type": "code",
   "execution_count": 46,
   "metadata": {},
   "outputs": [
    {
     "name": "stdout",
     "output_type": "stream",
     "text": [
      "7\n"
     ]
    }
   ],
   "source": [
    "# Line Count\n",
    "\n",
    "def lineCount(filepath):\n",
    "    filepath = open('DataFiles/data.txt','r')\n",
    "    line=0\n",
    "    for line1 in filepath:\n",
    "        line += 1\n",
    "    print(line)\n",
    "        \n",
    "\n",
    "lineCount(filepath)\n",
    "          "
   ]
  },
  {
   "cell_type": "code",
   "execution_count": 50,
   "metadata": {},
   "outputs": [
    {
     "name": "stdout",
     "output_type": "stream",
     "text": [
      "89\n"
     ]
    }
   ],
   "source": [
    "#Character count\n",
    "\n",
    "def charCount(filepath):\n",
    "    filepath = open('DataFiles/data.txt','r')\n",
    "    char=0\n",
    "    for char1 in filepath:\n",
    "        char = char + len(char1)\n",
    "    print(char)\n",
    "\n",
    "charCount(filepath)"
   ]
  },
  {
   "cell_type": "code",
   "execution_count": 51,
   "metadata": {},
   "outputs": [
    {
     "name": "stdout",
     "output_type": "stream",
     "text": [
      "7\n"
     ]
    }
   ],
   "source": [
    "# Word Count\n",
    "\n",
    "def wordCount(filepath):\n",
    "    filepath = open('DataFiles/data.txt','r')\n",
    "    word=0\n",
    "    for word1 in filepath:\n",
    "        words = word1.split()\n",
    "        word = word + len(words)\n",
    "    print(word)\n",
    "\n",
    "wordCount(filepath)"
   ]
  },
  {
   "cell_type": "code",
   "execution_count": null,
   "metadata": {},
   "outputs": [],
   "source": [
    "# unique word count\n",
    "\n"
   ]
  }
 ],
 "metadata": {
  "kernelspec": {
   "display_name": "Python 3",
   "language": "python",
   "name": "python3"
  },
  "language_info": {
   "codemirror_mode": {
    "name": "ipython",
    "version": 3
   },
   "file_extension": ".py",
   "mimetype": "text/x-python",
   "name": "python",
   "nbconvert_exporter": "python",
   "pygments_lexer": "ipython3",
   "version": "3.7.3"
  }
 },
 "nbformat": 4,
 "nbformat_minor": 2
}
