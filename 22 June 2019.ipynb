{
 "cells": [
  {
   "cell_type": "markdown",
   "metadata": {},
   "source": [
    "### Date : 22 June 2019\n",
    "\n",
    "### Day Objectives\n",
    "\n",
    "- File Handling\n",
    "    - Basic File Data Processing\n",
    "        - Accessing and modifying file data\n",
    "    - Character count\n",
    "    - Line count\n",
    "    - File size\n",
    "    - word count\n",
    "    - Unique Word count"
   ]
  },
  {
   "cell_type": "code",
   "execution_count": 8,
   "metadata": {},
   "outputs": [
    {
     "name": "stdout",
     "output_type": "stream",
     "text": [
      "new data\n",
      "hhjjkj\n",
      "jjkk\n"
     ]
    }
   ],
   "source": [
    "# Read a file -file should exist(read Mode)\n",
    "# Write to a file - Existing(append) or new file(write mode)\n",
    "\n",
    "def readFile(filePath):\n",
    "    with open(filePath, 'r') as f:\n",
    "        #print(type(f))\n",
    "        filedata = f.read()\n",
    "    return filedata\n",
    "\n",
    "filePath = 'DataFiles/data.txt'\n",
    "print(readFile(filePath))"
   ]
  },
  {
   "cell_type": "code",
   "execution_count": 22,
   "metadata": {},
   "outputs": [],
   "source": [
    "def writeFile(filepath,filedata):\n",
    "    with open(filepath, 'a') as f:\n",
    "        for line in filedata:\n",
    "            f.write(line)\n",
    "    return\n",
    "filedata = [\"\\nsdfgasdgf\", \"\\ngdcyusdgyuds\\n\"]\n",
    "filepath ='DataFiles/data.txt'\n",
    "writeFile(filepath,filedata)"
   ]
  },
  {
   "cell_type": "code",
   "execution_count": 33,
   "metadata": {},
   "outputs": [],
   "source": [
    "def modifyFile(filepath,filedata):\n",
    "    with open(filepath, 'a') as f:\n",
    "        #file=f.read()\n",
    "        for line in filedata:\n",
    "            f.seek(0)\n",
    "        f.write(\"gfhsg\")\n",
    "    return\n",
    "filepath= 'DataFiles/data.txt'\n",
    "modifyFile(filepath,filedata)"
   ]
  },
  {
   "cell_type": "code",
   "execution_count": 46,
   "metadata": {},
   "outputs": [
    {
     "name": "stdout",
     "output_type": "stream",
     "text": [
      "7\n"
     ]
    }
   ],
   "source": [
    "# Line Count\n",
    "\n",
    "def lineCount(filepath):\n",
    "    filepath = open('DataFiles/data.txt','r')\n",
    "    line=0\n",
    "    for line1 in filepath:\n",
    "        line += 1\n",
    "    print(line)\n",
    "        \n",
    "\n",
    "lineCount(filepath)\n",
    "          "
   ]
  },
  {
   "cell_type": "code",
   "execution_count": 50,
   "metadata": {},
   "outputs": [
    {
     "name": "stdout",
     "output_type": "stream",
     "text": [
      "89\n"
     ]
    }
   ],
   "source": [
    "#Character count\n",
    "\n",
    "def charCount(filepath):\n",
    "    filepath = open('DataFiles/data.txt','r')\n",
    "    char=0\n",
    "    for char1 in filepath:\n",
    "        char = char + len(char1)\n",
    "    print(char)\n",
    "\n",
    "charCount(filepath)"
   ]
  },
  {
   "cell_type": "code",
   "execution_count": 51,
   "metadata": {
    "scrolled": true
   },
   "outputs": [
    {
     "name": "stdout",
     "output_type": "stream",
     "text": [
      "7\n"
     ]
    }
   ],
   "source": [
    "# Word Count\n",
    "\n",
    "def wordCount(filepath):\n",
    "    filepath = open('DataFiles/data.txt','r')\n",
    "    word=0\n",
    "    for word1 in filepath:\n",
    "        words = word1.split()\n",
    "        word = word + len(words)\n",
    "    print(word)\n",
    "\n",
    "wordCount(filepath)"
   ]
  },
  {
   "cell_type": "code",
   "execution_count": 9,
   "metadata": {},
   "outputs": [
    {
     "name": "stdout",
     "output_type": "stream",
     "text": [
      "Enter the filename : data\n",
      "61\n"
     ]
    }
   ],
   "source": [
    "#Function to get file size \n",
    "\n",
    "import os\n",
    "fname = input('Enter the filename : ')\n",
    "def fileSize(fname):\n",
    "    file_path='DataFiles/data.txt'\n",
    "    with open(file_path,'r') as f:\n",
    "        f = os.path.getsize(file_path)\n",
    "    print(f)\n",
    "fileSize(fname)\n"
   ]
  },
  {
   "cell_type": "code",
   "execution_count": 1,
   "metadata": {},
   "outputs": [
    {
     "name": "stdout",
     "output_type": "stream",
     "text": [
      "['new', 'data', 'hai', 'how', 'are', 'you?', 'do', 'you', 'do?', 'Everything', 'is', 'good.'] lenght is: 12\n"
     ]
    }
   ],
   "source": [
    "# unique word count\n",
    "\n",
    "# unique word count\n",
    "\n",
    "def uniquewordcount(filename):\n",
    "    count = 0\n",
    "    with open(filename,'r') as f:\n",
    "        filedata = f.read().split()\n",
    "        ls = []\n",
    "        for i in filedata:\n",
    "            if i not in ls:\n",
    "                ls.append(i)\n",
    "        print(ls,\"lenght is:\", len(ls))\n",
    "uniquewordcount('DataFiles/data.txt')\n"
   ]
  },
  {
   "cell_type": "code",
   "execution_count": 5,
   "metadata": {},
   "outputs": [
    {
     "data": {
      "text/plain": [
       "[1, 2, 3]"
      ]
     },
     "execution_count": 5,
     "metadata": {},
     "output_type": "execute_result"
    }
   ],
   "source": [
    "# function to get unique elements in a list\n",
    "\n",
    "#[1,2,3,3,2,1]->>[1,2,3]\n",
    "# create a empty unique list [1,2,3]\n",
    "\n",
    "def uniqueData(list):\n",
    "   # create an empty unique list\n",
    "   \n",
    "    unique = []\n",
    "   #for every element in the main list,check if it exists in the unique list.\n",
    "   #If it does not exist,add it to unique list\n",
    "   #else if it already exist,move on to the next \n",
    "   \n",
    "    for element in list:\n",
    "        if element not in unique:\n",
    "            unique.append(element)\n",
    "    return unique\n",
    "\n",
    "list=[1,2,3,3,2,1]\n",
    "\n",
    "uniqueData(list)"
   ]
  },
  {
   "cell_type": "code",
   "execution_count": 8,
   "metadata": {},
   "outputs": [
    {
     "name": "stdout",
     "output_type": "stream",
     "text": [
      "{'new': 1, 'data': 1, 'hai': 1, 'how': 2, 'are': 1, 'you?': 1, 'do': 1, 'you': 1, 'do?': 1, 'Everything': 1, 'is': 1, 'good.': 1}\n"
     ]
    }
   ],
   "source": [
    "#function to print the frequency count in a file\n",
    "\n",
    "#Data in Line 1\n",
    "#Data in Line 2\n",
    "#Data in Line 3\n",
    "#o/p\n",
    "#Data : 3\n",
    "#in : 3\n",
    "#Line : 3\n",
    "#1 : 1\n",
    "#2 : 1\n",
    "#3 : 1\n",
    "\n",
    "import re\n",
    "\n",
    "def Frequencycount(file_name):\n",
    "    count={}\n",
    "    with open(file_name,'r')as f:\n",
    "        l=f.read().split()\n",
    "        for i in l:\n",
    "            if i in count:\n",
    "                count[i]+=1\n",
    "            else:\n",
    "                count[i]=1\n",
    "        print(count)\n",
    "file_name = 'Datafiles/data.txt'\n",
    "Frequencycount(file_name)"
   ]
  },
  {
   "cell_type": "code",
   "execution_count": null,
   "metadata": {},
   "outputs": [],
   "source": []
  }
 ],
 "metadata": {
  "kernelspec": {
   "display_name": "Python 3",
   "language": "python",
   "name": "python3"
  },
  "language_info": {
   "codemirror_mode": {
    "name": "ipython",
    "version": 3
   },
   "file_extension": ".py",
   "mimetype": "text/x-python",
   "name": "python",
   "nbconvert_exporter": "python",
   "pygments_lexer": "ipython3",
   "version": "3.7.3"
  }
 },
 "nbformat": 4,
 "nbformat_minor": 2
}
