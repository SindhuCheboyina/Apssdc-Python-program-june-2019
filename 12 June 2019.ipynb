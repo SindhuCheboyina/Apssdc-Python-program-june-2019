{
 "cells": [
  {
   "cell_type": "markdown",
   "metadata": {},
   "source": [
    "# Problem Solving and Programming\n",
    "\n",
    "#### Date 12 June 2019\n",
    "\n",
    "#### Day Objectives\n",
    "\n",
    "- String Slicing\n",
    "- Functions in Python\n",
    "- Basic problems related to conditional statements using functions\n",
    "- Iteration in python\n",
    "- Problem set for practice"
   ]
  },
  {
   "cell_type": "code",
   "execution_count": null,
   "metadata": {},
   "outputs": [],
   "source": []
  },
  {
   "cell_type": "markdown",
   "metadata": {},
   "source": [
    "## String Slicing"
   ]
  },
  {
   "cell_type": "code",
   "execution_count": 1,
   "metadata": {},
   "outputs": [
    {
     "data": {
      "text/plain": [
       "'Python'"
      ]
     },
     "execution_count": 1,
     "metadata": {},
     "output_type": "execute_result"
    }
   ],
   "source": [
    "s1 = \"Python\"\n",
    "\n",
    "s1"
   ]
  },
  {
   "cell_type": "code",
   "execution_count": 28,
   "metadata": {},
   "outputs": [
    {
     "data": {
      "text/plain": [
       "'ht'"
      ]
     },
     "execution_count": 28,
     "metadata": {},
     "output_type": "execute_result"
    }
   ],
   "source": [
    "## accessing the character from string\n",
    "\n",
    "s1[0]  # accessing first character\n",
    "s1[1]  # accessing second character\n",
    "s1[len(s1) - 1]  # Accessing last character\n",
    "\n",
    "s1[-1] # another way to access last character\n",
    "\n",
    "s1[-2] # Accessing the penultimate character of a string\n",
    "\n",
    "s1[0:2] # accessing first two characters\n",
    "\n",
    "s1[-2:] # accessing last two characters\n",
    "\n",
    "s1[4:] # accesing all characters from 5 to endof strings1\n",
    "\n",
    "s1[1:-1] #accessing all characters except first and last\n",
    "\n",
    "s1[len(s1)//2] # accessing the middle character in an odd length string\n",
    "\n",
    "s1[-1::-1]  # reverse of a string\n",
    "\n",
    "s1[-1:-3:-1] # Access last two characters in reverse order\n",
    "\n",
    "s1[len(s1) // 2 : len(s1) // 2 -2 :-1] # reversse the middle two characters in an even length string\n",
    "\n",
    "# Accessing alternate characters in a string\n",
    "# \"python\" --> \"pto\"\n",
    "   s1[::2]\n",
    "\n",
    "#Accessing of alternate characters of a string in reverse order\n",
    "# \"python\" --> \"nhy\"\n",
    "    s1[::-2]\n",
    "    \n",
    "    "
   ]
  },
  {
   "cell_type": "code",
   "execution_count": null,
   "metadata": {},
   "outputs": [],
   "source": []
  },
  {
   "cell_type": "markdown",
   "metadata": {},
   "source": [
    "## Functions"
   ]
  },
  {
   "cell_type": "code",
   "execution_count": 39,
   "metadata": {},
   "outputs": [
    {
     "data": {
      "text/plain": [
       "'olleh'"
      ]
     },
     "execution_count": 39,
     "metadata": {},
     "output_type": "execute_result"
    }
   ],
   "source": [
    "# Function to reverse a string\n",
    "\n",
    "def revString(s):\n",
    "    return s[::-1]\n",
    "\n",
    "revString(\"hello\")"
   ]
  },
  {
   "cell_type": "code",
   "execution_count": 43,
   "metadata": {},
   "outputs": [
    {
     "data": {
      "text/plain": [
       "False"
      ]
     },
     "execution_count": 43,
     "metadata": {},
     "output_type": "execute_result"
    }
   ],
   "source": [
    "# Function to check if a string is palindrome\n",
    "\n",
    "def palindrome(s):\n",
    "    if s == s[::-1]:\n",
    "        return True\n",
    "    else:\n",
    "        return False\n",
    "    \n",
    "palindrome(\"hai\")    "
   ]
  },
  {
   "cell_type": "code",
   "execution_count": 48,
   "metadata": {},
   "outputs": [
    {
     "data": {
      "text/plain": [
       "False"
      ]
     },
     "execution_count": 48,
     "metadata": {},
     "output_type": "execute_result"
    }
   ],
   "source": [
    "# Function to check given year is leap year\n",
    "\n",
    "def isLeapYear(year):\n",
    "    if year % 400 ==0 or (year % 4 == 0 and year % 100!= 0):\n",
    "        return True\n",
    "    else:\n",
    "        return False\n",
    "    \n",
    "isLeapYear(2030)"
   ]
  },
  {
   "cell_type": "code",
   "execution_count": 29,
   "metadata": {},
   "outputs": [
    {
     "data": {
      "text/plain": [
       "6"
      ]
     },
     "execution_count": 29,
     "metadata": {},
     "output_type": "execute_result"
    }
   ],
   "source": [
    "# Function to count the number of digits in a given number\n",
    "\n",
    "def numofDigit(n):\n",
    "    return len(str(n))\n",
    "    \n",
    "numofDigit(123456)    "
   ]
  },
  {
   "cell_type": "code",
   "execution_count": 31,
   "metadata": {},
   "outputs": [
    {
     "data": {
      "text/plain": [
       "93"
      ]
     },
     "execution_count": 31,
     "metadata": {},
     "output_type": "execute_result"
    }
   ],
   "source": [
    "# Function to identify the greatest of 4 numbers\n",
    "\n",
    "def greatof4(n1, n2, n3, n4):\n",
    "    if n1 > n2 and n1 > n3 and n1 > n4:\n",
    "        return n1\n",
    "    elif n2 > n3 and n2 > n4:\n",
    "        return n2\n",
    "    elif n3 > n4:\n",
    "        return n3\n",
    "    else:\n",
    "        return n4\n",
    "    \n",
    "greatof4(45, 56,78,93)"
   ]
  },
  {
   "cell_type": "code",
   "execution_count": null,
   "metadata": {},
   "outputs": [],
   "source": []
  },
  {
   "cell_type": "markdown",
   "metadata": {},
   "source": [
    "# Iterations\n",
    "- for\n",
    "- while"
   ]
  },
  {
   "cell_type": "code",
   "execution_count": 38,
   "metadata": {},
   "outputs": [
    {
     "name": "stdout",
     "output_type": "stream",
     "text": [
      "1 2 3 4 5 6 7 8 9 10 "
     ]
    }
   ],
   "source": [
    "# Function to print n natural numbers\n",
    "\n",
    "def printN(n):\n",
    "    for i in range(1, n+1):\n",
    "        print(i, end=\" \")\n",
    "    return\n",
    "        \n",
    "printN(10)"
   ]
  },
  {
   "cell_type": "code",
   "execution_count": 50,
   "metadata": {},
   "outputs": [
    {
     "name": "stdout",
     "output_type": "stream",
     "text": [
      "1 2 3 4 5 6 7 8 9 10 1 2 3 4 5 6 7 8 9 10 11 12 13 14 15 16 17 18 19 20 "
     ]
    }
   ],
   "source": [
    "# Function to print n natural numbers using while loop\n",
    "\n",
    "def printN(n):\n",
    "    counter = 1\n",
    "    while counter <= n:\n",
    "        print(counter, end = \" \")\n",
    "        counter = counter + 1\n",
    "    return\n",
    "\n",
    "printN(10)\n",
    "#printN(20)"
   ]
  },
  {
   "cell_type": "code",
   "execution_count": 67,
   "metadata": {},
   "outputs": [
    {
     "name": "stdout",
     "output_type": "stream",
     "text": [
      "102 108 114 120 126 132 138 144 150 156 162 168 174 180 186 192 198 "
     ]
    }
   ],
   "source": [
    "# Functions to print all numbers divisible by 6 and not a factor of 100 in a given range(lb, ub) inclusive\n",
    "\n",
    "def divisible(l, u):\n",
    "    for i in range(l, u+1):\n",
    "        if(i % 6 == 0 and 100 % i !=0):\n",
    "            print(i, end =\" \")\n",
    " \n",
    "divisible(100, 200)"
   ]
  },
  {
   "cell_type": "code",
   "execution_count": 74,
   "metadata": {},
   "outputs": [
    {
     "data": {
      "text/plain": [
       "140.0"
      ]
     },
     "execution_count": 74,
     "metadata": {},
     "output_type": "execute_result"
    }
   ],
   "source": [
    "# Function to find the average of cubes of all even tasks in a given range(lb,ub) inclusive\n",
    "\n",
    "def avgofCubes(l, b):\n",
    "    sum1 = 0\n",
    "    count = 0\n",
    "    for i in range(l, b+1):\n",
    "        if i % 2 == 0:\n",
    "            sum1 = sum1 + (i ** 3)\n",
    "            count += 1\n",
    "    return sum1/count\n",
    "           \n",
    "avgofCubes(3,6) "
   ]
  },
  {
   "cell_type": "code",
   "execution_count": 10,
   "metadata": {},
   "outputs": [
    {
     "data": {
      "text/plain": [
       "6"
      ]
     },
     "execution_count": 10,
     "metadata": {},
     "output_type": "execute_result"
    }
   ],
   "source": [
    "# Function to generate the list of factors for a given number (12 --> 2,3,4,6)\n",
    "\n",
    "def listofFact(n):\n",
    "    sum=0\n",
    "    for i in range(1, n//2+1):\n",
    "        if n% i == 0:\n",
    "            sum+=i\n",
    "    return sum  \n",
    "listofFact(6)"
   ]
  },
  {
   "cell_type": "code",
   "execution_count": 24,
   "metadata": {},
   "outputs": [
    {
     "name": "stdout",
     "output_type": "stream",
     "text": [
      "2\n",
      "6\n",
      "24\n",
      "120\n"
     ]
    },
    {
     "data": {
      "text/plain": [
       "120"
      ]
     },
     "execution_count": 24,
     "metadata": {},
     "output_type": "execute_result"
    }
   ],
   "source": [
    "# Function to calculate the factorial of a given number\n",
    "\n",
    "def fact(n):\n",
    "    fact = 1\n",
    "    for i in range(2, n+1):\n",
    "        fact =fact * i\n",
    "        print(fact)\n",
    "    return fact\n",
    "fact(5)"
   ]
  },
  {
   "cell_type": "code",
   "execution_count": 8,
   "metadata": {},
   "outputs": [
    {
     "data": {
      "text/plain": [
       "False"
      ]
     },
     "execution_count": 8,
     "metadata": {},
     "output_type": "execute_result"
    }
   ],
   "source": [
    "#Function to check if a number is prime\n",
    "\n",
    "def isPrime(n):\n",
    "    #flag = True\n",
    "    count=0\n",
    "    for i in range(1,n+1):\n",
    "        if n%i == 0:\n",
    "            count+=1\n",
    "    if count == 2:\n",
    "        return True\n",
    "    else:\n",
    "        return False\n",
    "    \n",
    "#     for i in range(2, n//2+1):\n",
    "#         if n % i == 0:\n",
    "#             flag = False\n",
    "#             return flag\n",
    "#return flag\n",
    "\n",
    "isPrime(35)"
   ]
  },
  {
   "cell_type": "code",
   "execution_count": 21,
   "metadata": {},
   "outputs": [
    {
     "data": {
      "text/plain": [
       "12"
      ]
     },
     "execution_count": 21,
     "metadata": {},
     "output_type": "execute_result"
    }
   ],
   "source": [
    "# Function to calculate the average of first n prime numbers\n",
    "def avgPrimes(n):\n",
    "    pCount = 0\n",
    "    sum1 = 0\n",
    "    i=1\n",
    "    while pCount < n:\n",
    "        if isPrime(i) == True:\n",
    "            #print(i)\n",
    "            sum1 +=i\n",
    "            pCount+=1\n",
    "        i+=1\n",
    "    return sum1//pCount\n",
    "\n",
    "avgPrimes(10)    "
   ]
  },
  {
   "cell_type": "code",
   "execution_count": 12,
   "metadata": {},
   "outputs": [
    {
     "name": "stdout",
     "output_type": "stream",
     "text": [
      "6 28 "
     ]
    }
   ],
   "source": [
    "# Function to generate all perfect numbers in a given range\n",
    "\n",
    "def perfectNum(n):\n",
    "    if listofFact(n) == n:\n",
    "        return True\n",
    "    return False\n",
    "\n",
    "def listofPerfect(l, u):\n",
    "    for i in range(l, u+1):\n",
    "        if perfectNum(i):\n",
    "            print(i, end =\" \")\n",
    "    return\n",
    "    \n",
    "listofPerfect(5,100)"
   ]
  },
  {
   "cell_type": "code",
   "execution_count": null,
   "metadata": {},
   "outputs": [],
   "source": []
  }
 ],
 "metadata": {
  "kernelspec": {
   "display_name": "Python 3",
   "language": "python",
   "name": "python3"
  },
  "language_info": {
   "codemirror_mode": {
    "name": "ipython",
    "version": 3
   },
   "file_extension": ".py",
   "mimetype": "text/x-python",
   "name": "python",
   "nbconvert_exporter": "python",
   "pygments_lexer": "ipython3",
   "version": "3.7.3"
  }
 },
 "nbformat": 4,
 "nbformat_minor": 2
}
