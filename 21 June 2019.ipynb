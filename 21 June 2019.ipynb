{
 "cells": [
  {
   "cell_type": "code",
   "execution_count": 24,
   "metadata": {},
   "outputs": [
    {
     "name": "stdout",
     "output_type": "stream",
     "text": [
      "name2 added to contacts\n"
     ]
    }
   ],
   "source": [
    "#Function to add contact to contacts text file\n",
    "\n",
    "from Packages.validators import phoneNumValidator as pnv, emailValidator as ev\n",
    "#from Packages.validators import emailValidator as ev\n",
    "def addContact(name, phone, email):\n",
    "    # store data as name, phone, email in the contacts file\n",
    "    \n",
    "    filename = 'Datafiles/contacts.txt'\n",
    "    if not CheckcontactExist(name):\n",
    "        if pnv(phone) and ev(email):\n",
    "            with open(filename, 'a') as f:\n",
    "                line = name +',' + str(phone) + ',' +email + '\\n'\n",
    "                f.write(line)\n",
    "            print(name, 'added to contacts')\n",
    "        else:\n",
    "            print('invalid phone num or email')\n",
    "    else:\n",
    "        print(name, 'already exists')\n",
    "    return\n",
    "\n",
    "addContact(\"name2\", 6783492012, \"name2_123@gmail.com\")\n",
    "    "
   ]
  },
  {
   "cell_type": "code",
   "execution_count": 32,
   "metadata": {},
   "outputs": [
    {
     "name": "stdout",
     "output_type": "stream",
     "text": [
      "True\n"
     ]
    }
   ],
   "source": [
    "# Function to check if contact already exists\n",
    "import re\n",
    "def CheckcontactExist(name):\n",
    "    filename = 'Datafiles/contacts.txt'\n",
    "    with open(filename, 'r') as f:\n",
    "        filedata = f.read()\n",
    "        pattern = name+','\n",
    "    return re.search(name, filedata)\n",
    "if CheckcontactExist(\"name2\"):\n",
    "    print(True)\n",
    "else:\n",
    "    print(False)\n",
    "#CheckcontactExist(\"name\")"
   ]
  },
  {
   "cell_type": "code",
   "execution_count": 31,
   "metadata": {},
   "outputs": [
    {
     "data": {
      "text/plain": [
       "'name1,57834920,name1_123@gmail.com\\nname,4567839,name-6r@gmail.com\\nname2,6783492012,name2_123@gmail.com\\n'"
      ]
     },
     "execution_count": 31,
     "metadata": {},
     "output_type": "execute_result"
    }
   ],
   "source": [
    "filename = 'Datafiles/contacts.txt'\n",
    "def csvToList(filename):\n",
    "    li=[]\n",
    "    with open(filename, 'r') as f:\n",
    "        for line in f:\n",
    "            li.append(line.split(','))\n",
    "    return li\n",
    "\n",
    "def listToFile(li):\n",
    "    s=''\n",
    "    for i in li:\n",
    "        s += ','.join(i)\n",
    "    return s\n",
    "\n",
    "li = csvToList(filename)\n",
    "listToFile(li)\n",
    "#csvToList(filename)"
   ]
  },
  {
   "cell_type": "code",
   "execution_count": null,
   "metadata": {},
   "outputs": [],
   "source": []
  }
 ],
 "metadata": {
  "kernelspec": {
   "display_name": "Python 3",
   "language": "python",
   "name": "python3"
  },
  "language_info": {
   "codemirror_mode": {
    "name": "ipython",
    "version": 3
   },
   "file_extension": ".py",
   "mimetype": "text/x-python",
   "name": "python",
   "nbconvert_exporter": "python",
   "pygments_lexer": "ipython3",
   "version": "3.7.3"
  }
 },
 "nbformat": 4,
 "nbformat_minor": 2
}
