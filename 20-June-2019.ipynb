{
 "cells": [
  {
   "cell_type": "markdown",
   "metadata": {},
   "source": [
    "## Day Objectives\n",
    "- Regular Expressions\n",
    "- Constructing Regular Expressions for various use cases \n",
    "- regular expressions Module and related in Python\n",
    "- Improving the contacts application with name and phone number validations\n",
    "### File handling\n",
    "- Test Files\n",
    "- Upgrading contacts application to store contact information in to text file"
   ]
  },
  {
   "cell_type": "markdown",
   "metadata": {},
   "source": [
    "### Regular Expressions\n",
    "\n",
    "\n",
    "- Pattern Matching\n",
    "- Symbolic Notation of a pattern\n",
    "  - Pattern : Format which repeats\n",
    "  - Pattern (RE) - The set of all strings matches that pattern\n",
    "- [0-9] -> Any digit\n",
    "- [a-z] -> Any lower case alphabet\n",
    "- [2468] -> All single digit multiples of 2\n",
    "\n",
    "- ^[0-9]{1}$ -> only single digit numbers\n",
    "\n",
    "- ^[0-9]{3}$ -> only 3 digits numbers\n",
    "- ^[0-9]*0$ -> All multiples of 10\n",
    "- ^([1-9][0-9]*[05])$|^([5])$ -> All multiples of 5\n",
    "- -> All 10 digit numbers\n",
    "- {w][o][r][d] or (word)  -> searching a word\n",
    "-  ^([6-9][0-9]{9}$|^[0][6-9][0-9]{9}$|^[+][9][1][6-9][0-9]{9}$       -> Validating phone numbers(india)(start with 9876 followed by 9 digits) including +91     \n",
    "-    Email validation(username@domain.extension)\n",
    "       - username\n",
    "          - length of username :[6,15]\n",
    "          - No special characters other than _\n",
    "          - should not begin and end with _\n",
    "          - character set : all digits and alphabet\n",
    "          ^[0-9a-z][0-9a-z_.]{4,13}[0-9a-z]\n",
    "       - domain\n",
    "          - length of domain : [3, 15]\n",
    "          - no special characters\n",
    "          - Character set : all digits and alphabet\n",
    "       - extension\n",
    "          - length of extension : [2, 4] \n",
    "          - no special characters\n",
    "          - character set : alphabet"
   ]
  },
  {
   "cell_type": "markdown",
   "metadata": {},
   "source": [
    "Any String of length 5 that starts with 'a' and ends with 'z' in between a and z any alphabet.number and special character can be present\n",
    "\n",
    "\n",
    "-  ^[a]...[z]$\n",
    "\n",
    "\n",
    "-  ^[a].*[z]$ ---> (here in between a and z any number of times any character can be repeated) (any string of any length that starts with 'a' and ends with 'z')\n"
   ]
  },
  {
   "cell_type": "code",
   "execution_count": 7,
   "metadata": {},
   "outputs": [
    {
     "data": {
      "text/plain": [
       "True"
      ]
     },
     "execution_count": 7,
     "metadata": {},
     "output_type": "execute_result"
    }
   ],
   "source": [
    "#Function to validate a phone number\n",
    "import re\n",
    "\n",
    "def phoneNumValidator(num):\n",
    "    pattern ='^[6-9][0-9]{9}$|^[0][6-9][0-9]{9}$|^[+][9][1][6-9][0-9]{9}$'\n",
    "    if re.match(pattern,str(num)):\n",
    "        return True\n",
    "    return False\n",
    "    \n",
    "\n",
    "phoneNumValidator(9876543210)\n",
    "\n",
    "def emailValidator(email):\n",
    "    pattern=\"^[0-9a-z][0-9a-z_.]{4,13}[0-9a-z][@][a-z0-9]{3,18}[.][a-z]{2,4}$\"\n",
    "    if re.match(pattern,email):\n",
    "        return True\n",
    "    return False\n",
    "\n",
    "emailValidator(\"abcdef@gmail.com\")"
   ]
  },
  {
   "cell_type": "code",
   "execution_count": 15,
   "metadata": {},
   "outputs": [
    {
     "name": "stdout",
     "output_type": "stream",
     "text": [
      "abc added successfully\n"
     ]
    }
   ],
   "source": [
    "contacts= {\"abc\":[8765432109, 'abc@domain,ext'],\"def\" : [7896543210, 'def@domain.ext']}\n",
    "\n",
    "def addContact(name, phone,email):\n",
    "   #Verify that the contact doesnot already exist in the dictionary\n",
    "    if name not in contacts:\n",
    "        print(\"Name ALready Exists.\")\n",
    "        return\n",
    "    else:\n",
    "        if not phoneNumValidator(phone):\n",
    "            print(\"Invalid Phone Number\")\n",
    "            return\n",
    "        if not emailValidator(email):\n",
    "            print(\"Invalid email id\")\n",
    "            return\n",
    "        newcontact = []\n",
    "        newcontact.append(phone)\n",
    "        newcontact.append(email)\n",
    "        contacts[name]= newcontact\n",
    "        print(name,\"added successfully\")\n",
    "    return\n",
    "\n",
    "\n",
    "addContact(\"abc\", 9876543210,\"abcdefgh@gmail.com\")"
   ]
  },
  {
   "cell_type": "code",
   "execution_count": 6,
   "metadata": {},
   "outputs": [
    {
     "name": "stdout",
     "output_type": "stream",
     "text": [
      "abc\n",
      "phone: 9876543210\n",
      "email: abcdefgh@gmail.com\n"
     ]
    }
   ],
   "source": [
    "def searchContacts(name):\n",
    "    if name in contacts:\n",
    "        print(name)\n",
    "        print(\"phone:\", contacts[name][0])\n",
    "        print(\"email:\", contacts[name][1])\n",
    "    else:\n",
    "        print(\"%s doesnot exist\" % name)\n",
    "    return\n",
    "\n",
    "\n",
    "searchContacts(\"abc\")"
   ]
  },
  {
   "cell_type": "code",
   "execution_count": 20,
   "metadata": {},
   "outputs": [
    {
     "name": "stdout",
     "output_type": "stream",
     "text": [
      "2 Contacts added Successfully\n"
     ]
    },
    {
     "data": {
      "text/plain": [
       "{'abc': [9876543210, 'abcdefgh@gmail.com'],\n",
       " 'def': [7896543210, 'def@domain.ext'],\n",
       " 'name': [1234568809, 'abc@gmail.com'],\n",
       " 'name2': [2345678091, 'def@gmail.com']}"
      ]
     },
     "execution_count": 20,
     "metadata": {},
     "output_type": "execute_result"
    }
   ],
   "source": [
    "#Importing a contact\n",
    "# newContacts is goven as a dictionary\n",
    "# Merge new contacts with existing contacts\n",
    "\n",
    "\n",
    "def importContacts(newContacts):\n",
    "    contacts.update(newContacts)\n",
    "    print(len(newContacts.keys()), \"Contacts added Successfully\")\n",
    "    return\n",
    "\n",
    "\n",
    "newContacts={\"name\":[1234568809,\"abc@gmail.com\"],\"name2\" :[2345678091, \"def@gmail.com\"]}\n",
    "importContacts(newContacts)\n",
    "contacts"
   ]
  },
  {
   "cell_type": "code",
   "execution_count": 22,
   "metadata": {},
   "outputs": [
    {
     "name": "stdout",
     "output_type": "stream",
     "text": [
      "abc \n",
      " phone: 9876543210 \n",
      " Email: abcdefgh@gmail.com\n",
      "def \n",
      " phone: 7896543210 \n",
      " Email: def@domain.ext\n",
      "name \n",
      " phone: 1234568809 \n",
      " Email: abc@gmail.com\n",
      "name2 \n",
      " phone: 2345678091 \n",
      " Email: def@gmail.com\n"
     ]
    }
   ],
   "source": [
    "# Function to list all contacts\n",
    "\n",
    "def listAllContacts():\n",
    "    for contact, info in contacts.items():\n",
    "        print(contact, \"\\n\", \"phone:\", info[0],\"\\n\", \"Email:\",info[1])\n",
    "    return\n",
    "listAllContacts()"
   ]
  },
  {
   "cell_type": "code",
   "execution_count": null,
   "metadata": {},
   "outputs": [],
   "source": [
    "# Function to edit contact information\n",
    "\n",
    "def editContact(name,phone,email)"
   ]
  },
  {
   "cell_type": "code",
   "execution_count": null,
   "metadata": {},
   "outputs": [],
   "source": []
  },
  {
   "cell_type": "markdown",
   "metadata": {},
   "source": [
    "### File Handling in Python\n",
    "\n",
    "File - Document containing information residing on the permanent storage\n",
    "Types - text, pdf, csv etc\n",
    "\n",
    "File I/O - Channelling I/O data to files\n",
    "Default I/O channels - Keyboard / screen\n",
    "\n",
    "Change I/O channels to files for reading and writing into files\n",
    "\n",
    "Read a file - Input from file\n",
    "Write to a file - Output to a file\n",
    "\n",
    "Read / write a file - open(filename, mode)\n"
   ]
  },
  {
   "cell_type": "code",
   "execution_count": 6,
   "metadata": {},
   "outputs": [
    {
     "name": "stdout",
     "output_type": "stream",
     "text": [
      "fbgbjhskj\n",
      "fhjLKJ;\n",
      "ERWHFRSDH\n"
     ]
    }
   ],
   "source": [
    "# Function to read a file\n",
    "\n",
    "def readFile(filename):\n",
    "    f = open(filename, 'r')\n",
    "    filedata = f.read()\n",
    "    f.close()\n",
    "    return filedata\n",
    "\n",
    "filename = 'dataFiles\\data.txt'\n",
    "filedata = readFile(filename)\n",
    "#readFile(filename)\n",
    "#readFile(filename).split('\\n')\n",
    "#for line in readFile(filename).split('\\n'):\n",
    "for line in filedata.split('\\n'):\n",
    "    print(line)"
   ]
  },
  {
   "cell_type": "code",
   "execution_count": 12,
   "metadata": {},
   "outputs": [
    {
     "name": "stdout",
     "output_type": "stream",
     "text": [
      "fbgbjhskj\n",
      "fhjLKJ;\n",
      "ERWHFRSDH\n"
     ]
    }
   ],
   "source": [
    "#printing the data without using split\n",
    "def printFileData(filename):\n",
    "    #f= open(filename,'r')\n",
    "    with open(filename,'r') as f:\n",
    "        for line in f:\n",
    "            print(line, end='')\n",
    "    return\n",
    "#printFileData(filename)\n",
    "print(readFile(filename))"
   ]
  },
  {
   "cell_type": "code",
   "execution_count": 15,
   "metadata": {},
   "outputs": [],
   "source": [
    "# Function to write data into a file\n",
    "\n",
    "def writeintoFile(filename, filedata):\n",
    "    with open(filename, 'w') as f:\n",
    "        f.write(filedata)\n",
    "    return\n",
    "\n",
    "filename = 'dataFiles\\data.txt'\n",
    "\n",
    "writeintoFile(filename,\"new data\\n\")"
   ]
  },
  {
   "cell_type": "code",
   "execution_count": 16,
   "metadata": {},
   "outputs": [],
   "source": [
    "# Function to append data to a file\n",
    "\n",
    "def appendDatatoFile(filename, filedata):\n",
    "    with open(filename, 'a') as f:\n",
    "        f.write(filedata)\n",
    "    return\n",
    "\n",
    "filedata=\"hhjjkj\\njjkk\"\n",
    "appendDatatoFile(filename, filedata)"
   ]
  },
  {
   "cell_type": "code",
   "execution_count": null,
   "metadata": {},
   "outputs": [],
   "source": []
  }
 ],
 "metadata": {
  "kernelspec": {
   "display_name": "Python 3",
   "language": "python",
   "name": "python3"
  },
  "language_info": {
   "codemirror_mode": {
    "name": "ipython",
    "version": 3
   },
   "file_extension": ".py",
   "mimetype": "text/x-python",
   "name": "python",
   "nbconvert_exporter": "python",
   "pygments_lexer": "ipython3",
   "version": "3.7.3"
  }
 },
 "nbformat": 4,
 "nbformat_minor": 2
}
