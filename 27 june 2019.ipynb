{
 "cells": [
  {
   "cell_type": "code",
   "execution_count": 4,
   "metadata": {},
   "outputs": [
    {
     "name": "stdout",
     "output_type": "stream",
     "text": [
      "1 2\n",
      "1 3\n",
      "1 4\n",
      "1 5\n",
      "2 3\n",
      "2 4\n",
      "2 5\n",
      "3 4\n",
      "3 5\n",
      "4 5\n"
     ]
    }
   ],
   "source": [
    "# Function to print all combinations of pairs of integers in a unique list\n",
    "# [1,2,3] -> (1,2), (1,3), (2,3) -> 3C2 -> 3 comb\n",
    "# [1,2,3,4] -> 1,2 1,3 1,4 2,3 2,4 3,4  -> 4c2 ->6 comb\n",
    "# [1,2,3,4] -> 1,2,3 1,3,4 2,3,4\n",
    "\n",
    "def combinations(li):\n",
    "    for i in range(len(li) - 1):\n",
    "        for j in range(i+1, len(li)):\n",
    "            print(li[i],li[j])\n",
    "    return\n",
    "\n",
    "li =[1,2,3,4,5]\n",
    "combinations(li)\n",
    "        "
   ]
  },
  {
   "cell_type": "code",
   "execution_count": 7,
   "metadata": {},
   "outputs": [
    {
     "name": "stdout",
     "output_type": "stream",
     "text": [
      "1 2 3\n",
      "1 2 4\n",
      "1 2 5\n",
      "1 3 4\n",
      "1 3 5\n",
      "1 4 5\n",
      "2 3 4\n",
      "2 3 5\n",
      "2 4 5\n",
      "3 4 5\n"
     ]
    }
   ],
   "source": [
    "def combinations(li):\n",
    "    for i in range(len(li) - 2):\n",
    "        for j in range(i+1, len(li)-1):\n",
    "            for k in range(j+1, len(li)):\n",
    "                print(li[i],li[j],li[k])\n",
    "    return\n",
    "\n",
    "li =[1,2,3,4,5]\n",
    "combinations(li)"
   ]
  },
  {
   "cell_type": "code",
   "execution_count": 22,
   "metadata": {},
   "outputs": [
    {
     "data": {
      "text/plain": [
       "[]"
      ]
     },
     "execution_count": 22,
     "metadata": {},
     "output_type": "execute_result"
    }
   ],
   "source": [
    "# [1,2,3] ->[1,2,3]\n",
    "\n",
    "def medium(li):\n",
    "    while(True):\n",
    "        li2 = differencePairs(li)\n",
    "        if len(li2) == 0:\n",
    "            break\n",
    "    return \n",
    "\n",
    "def differencePairs(li):\n",
    "    cli = li\n",
    "    newElements =[]\n",
    "    for i in range(len(cli) - 1):\n",
    "        for j in range(i+1, len(cli)):\n",
    "            diff =abs(li[i]-li[j]) \n",
    "            if diff not in cli:\n",
    "                #cli.append(diff)\n",
    "                newElements.append(diff)\n",
    "    return newElements\n",
    "\n",
    "li = [1,9,8,7,6,5,4,3,2]\n",
    "differencePairs(li)"
   ]
  },
  {
   "cell_type": "code",
   "execution_count": null,
   "metadata": {},
   "outputs": [],
   "source": []
  }
 ],
 "metadata": {
  "kernelspec": {
   "display_name": "Python 3",
   "language": "python",
   "name": "python3"
  },
  "language_info": {
   "codemirror_mode": {
    "name": "ipython",
    "version": 3
   },
   "file_extension": ".py",
   "mimetype": "text/x-python",
   "name": "python",
   "nbconvert_exporter": "python",
   "pygments_lexer": "ipython3",
   "version": "3.7.3"
  }
 },
 "nbformat": 4,
 "nbformat_minor": 2
}
