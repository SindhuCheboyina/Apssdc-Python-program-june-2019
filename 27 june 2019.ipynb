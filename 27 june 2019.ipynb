{
 "cells": [
  {
   "cell_type": "code",
   "execution_count": 4,
   "metadata": {},
   "outputs": [
    {
     "name": "stdout",
     "output_type": "stream",
     "text": [
      "1 2\n",
      "1 3\n",
      "1 4\n",
      "1 5\n",
      "2 3\n",
      "2 4\n",
      "2 5\n",
      "3 4\n",
      "3 5\n",
      "4 5\n"
     ]
    }
   ],
   "source": [
    "# Function to print all combinations of pairs of integers in a unique list\n",
    "# [1,2,3] -> (1,2), (1,3), (2,3) -> 3C2 -> 3 comb\n",
    "# [1,2,3,4] -> 1,2 1,3 1,4 2,3 2,4 3,4  -> 4c2 ->6 comb\n",
    "# [1,2,3,4] -> 1,2,3 1,3,4 2,3,4\n",
    "\n",
    "def combinations(li):\n",
    "    for i in range(len(li) - 1):\n",
    "        for j in range(i+1, len(li)):\n",
    "            print(li[i],li[j])\n",
    "    return\n",
    "\n",
    "li =[1,2,3,4,5]\n",
    "combinations(li)\n",
    "        "
   ]
  },
  {
   "cell_type": "code",
   "execution_count": 7,
   "metadata": {},
   "outputs": [
    {
     "name": "stdout",
     "output_type": "stream",
     "text": [
      "1 2 3\n",
      "1 2 4\n",
      "1 2 5\n",
      "1 3 4\n",
      "1 3 5\n",
      "1 4 5\n",
      "2 3 4\n",
      "2 3 5\n",
      "2 4 5\n",
      "3 4 5\n"
     ]
    }
   ],
   "source": [
    "def combinations(li):\n",
    "    for i in range(len(li) - 2):\n",
    "        for j in range(i+1, len(li)-1):\n",
    "            for k in range(j+1, len(li)):\n",
    "                print(li[i],li[j],li[k])\n",
    "    return\n",
    "\n",
    "li =[1,2,3,4,5]\n",
    "combinations(li)"
   ]
  },
  {
   "cell_type": "code",
   "execution_count": 39,
   "metadata": {},
   "outputs": [
    {
     "data": {
      "text/plain": [
       "10"
      ]
     },
     "execution_count": 39,
     "metadata": {},
     "output_type": "execute_result"
    }
   ],
   "source": [
    "# [1,2,3] ->[1,2,3]\n",
    "\n",
    "def medium(li,k):\n",
    "    while(True):\n",
    "        li2 = differencePairs(li)\n",
    "        if li2[0] == li2[1]:\n",
    "            break\n",
    "    if len(li2[0]) >= k:\n",
    "        return sorted(li2[0],reverse=True)[k-1]\n",
    "    return -1\n",
    "\n",
    "# function to identify differences of all elements\n",
    "# pairs of numbers and add those differences to same list\n",
    "# it returns the updated and original list\n",
    "\n",
    "def differencePairs(li):\n",
    "    cli = li[:]\n",
    "    #cli = li.copy()\n",
    "    newElements =[]\n",
    "    for i in range(len(li) - 1):\n",
    "        for j in range(i+1, len(li)):\n",
    "            diff =abs(li[i]-li[j]) \n",
    "            if diff not in li and diff not in newElements:\n",
    "                #cli.append(diff)\n",
    "                newElements.append(diff)\n",
    "    li.extend(newElements)\n",
    "    return [cli, li]\n",
    "\n",
    "li = [3,6,9,12,2]\n",
    "differencePairs(li)\n",
    "differencePairs(li)\n",
    "medium(li,2)"
   ]
  },
  {
   "cell_type": "code",
   "execution_count": null,
   "metadata": {},
   "outputs": [],
   "source": [
    "#list  of "
   ]
  },
  {
   "cell_type": "code",
   "execution_count": null,
   "metadata": {},
   "outputs": [],
   "source": [
    "[4,8]\n",
    "[20,40,60]\n",
    "[4,8,12,16] - even list no '1'\n",
    "[3,6,9,12]\n",
    "# Convert the list into arithmetic progression\n",
    "\n",
    "[3,8,15]\n",
    "[3,8,15,5,2,1,4,6,7,9,10,11,12,13,14]"
   ]
  },
  {
   "cell_type": "code",
   "execution_count": null,
   "metadata": {},
   "outputs": [],
   "source": []
  },
  {
   "cell_type": "markdown",
   "metadata": {},
   "source": [
    "## Set - Data Structure in Python\n",
    "\n",
    "- represented by '{}'\n",
    "- mutable\n",
    "- no indexing"
   ]
  },
  {
   "cell_type": "code",
   "execution_count": 54,
   "metadata": {},
   "outputs": [
    {
     "data": {
      "text/plain": [
       "{-1, 1, 2, 3, 4, 4.9, 5, 6, 7, 8, 89}"
      ]
     },
     "execution_count": 54,
     "metadata": {},
     "output_type": "execute_result"
    }
   ],
   "source": [
    "a = {1,2,3,4,5,6,6} \n",
    "\n",
    "a.add(7)  # adding single element\n",
    "\n",
    "\"\"\"for i in a:\n",
    "    print(i,end =' ')\"\"\"  # accessing elements\n",
    "\n",
    "b= {1,2,3,4.9,8,-1}\n",
    "li = [123,89,1]\n",
    "\n",
    "a.update(b,li)    # adding multiple elements\n",
    "a\n",
    "\n",
    "a.discard(123)    # to remove an element\n",
    "a\n",
    "\n"
   ]
  },
  {
   "cell_type": "markdown",
   "metadata": {},
   "source": [
    "## Set operations"
   ]
  },
  {
   "cell_type": "code",
   "execution_count": 68,
   "metadata": {},
   "outputs": [
    {
     "data": {
      "text/plain": [
       "{1, 2, 3, 46, 677}"
      ]
     },
     "execution_count": 68,
     "metadata": {},
     "output_type": "execute_result"
    }
   ],
   "source": [
    "# Union\n",
    "\n",
    "a = {1,2,3,46,677}\n",
    "b = {34,6,2,78}\n",
    "\n",
    "a.union(b)\n",
    "b.union(a)"
   ]
  },
  {
   "cell_type": "code",
   "execution_count": 69,
   "metadata": {},
   "outputs": [
    {
     "data": {
      "text/plain": [
       "{2}"
      ]
     },
     "execution_count": 69,
     "metadata": {},
     "output_type": "execute_result"
    }
   ],
   "source": [
    "# Intersection\n",
    "a = {1,2,3,46,677}\n",
    "b = {34,6,2,78}\n",
    "c = {4,9}\n",
    "\n",
    "a.intersection(b)"
   ]
  },
  {
   "cell_type": "code",
   "execution_count": 59,
   "metadata": {},
   "outputs": [
    {
     "data": {
      "text/plain": [
       "{2}"
      ]
     },
     "execution_count": 59,
     "metadata": {},
     "output_type": "execute_result"
    }
   ],
   "source": [
    "b.intersection(a)"
   ]
  },
  {
   "cell_type": "code",
   "execution_count": 63,
   "metadata": {},
   "outputs": [
    {
     "data": {
      "text/plain": [
       "True"
      ]
     },
     "execution_count": 63,
     "metadata": {},
     "output_type": "execute_result"
    }
   ],
   "source": [
    "# disjoint\n",
    "\n",
    "a.isdisjoint(b)\n",
    "a.isdisjoint(c)"
   ]
  },
  {
   "cell_type": "code",
   "execution_count": 64,
   "metadata": {},
   "outputs": [
    {
     "data": {
      "text/plain": [
       "{1, 3, 46, 677}"
      ]
     },
     "execution_count": 64,
     "metadata": {},
     "output_type": "execute_result"
    }
   ],
   "source": [
    "a - b   # all elements of a which are not in b"
   ]
  },
  {
   "cell_type": "code",
   "execution_count": 65,
   "metadata": {},
   "outputs": [
    {
     "data": {
      "text/plain": [
       "{6, 34, 78}"
      ]
     },
     "execution_count": 65,
     "metadata": {},
     "output_type": "execute_result"
    }
   ],
   "source": [
    "b-a"
   ]
  },
  {
   "cell_type": "code",
   "execution_count": 66,
   "metadata": {},
   "outputs": [
    {
     "data": {
      "text/plain": [
       "[1, 2, 3, 46, 677]"
      ]
     },
     "execution_count": 66,
     "metadata": {},
     "output_type": "execute_result"
    }
   ],
   "source": [
    "sorted(a)"
   ]
  },
  {
   "cell_type": "code",
   "execution_count": 70,
   "metadata": {},
   "outputs": [
    {
     "data": {
      "text/plain": [
       "{1, 3, 6, 34, 46, 78, 677}"
      ]
     },
     "execution_count": 70,
     "metadata": {},
     "output_type": "execute_result"
    }
   ],
   "source": [
    "a ^ b # elements either in a or b (gives uncommon elements)\n"
   ]
  },
  {
   "cell_type": "code",
   "execution_count": 72,
   "metadata": {},
   "outputs": [
    {
     "data": {
      "text/plain": [
       "set()"
      ]
     },
     "execution_count": 72,
     "metadata": {},
     "output_type": "execute_result"
    }
   ],
   "source": [
    "# set creation\n",
    "\n",
    "d = set()  # creates an empty set\n",
    "d"
   ]
  },
  {
   "cell_type": "code",
   "execution_count": 73,
   "metadata": {},
   "outputs": [
    {
     "data": {
      "text/plain": [
       "{1, 2, 3, 4, 56}"
      ]
     },
     "execution_count": 73,
     "metadata": {},
     "output_type": "execute_result"
    }
   ],
   "source": [
    "li = [1,2,3,4,56,4,3,2,1]\n",
    "u=set(li)\n",
    "u\n"
   ]
  },
  {
   "cell_type": "code",
   "execution_count": null,
   "metadata": {},
   "outputs": [],
   "source": []
  },
  {
   "cell_type": "markdown",
   "metadata": {},
   "source": [
    "## Functional Programming\n"
   ]
  },
  {
   "cell_type": "markdown",
   "metadata": {},
   "source": [
    "#### List Comprehension"
   ]
  },
  {
   "cell_type": "code",
   "execution_count": 79,
   "metadata": {},
   "outputs": [
    {
     "data": {
      "text/plain": [
       "[1, 2, 3, 4, 5, 6, 7, 8, 9, 10]"
      ]
     },
     "execution_count": 79,
     "metadata": {},
     "output_type": "execute_result"
    }
   ],
   "source": [
    "# N natural numbers in a list\n",
    "\n",
    "n=10\n",
    "li = []\n",
    "for i in range(1,n+1):\n",
    "    li.append(i)\n",
    "li"
   ]
  },
  {
   "cell_type": "code",
   "execution_count": 80,
   "metadata": {},
   "outputs": [
    {
     "data": {
      "text/plain": [
       "[1, 2, 3, 4]"
      ]
     },
     "execution_count": 80,
     "metadata": {},
     "output_type": "execute_result"
    }
   ],
   "source": [
    "li=[i for i in range(1,5)]\n",
    "li\n"
   ]
  },
  {
   "cell_type": "code",
   "execution_count": 83,
   "metadata": {},
   "outputs": [
    {
     "data": {
      "text/plain": [
       "[1, 8, 27, 64]"
      ]
     },
     "execution_count": 83,
     "metadata": {},
     "output_type": "execute_result"
    }
   ],
   "source": [
    "# Apply list comprehension to store cubes on n natural numbers\n",
    "\n",
    "li = [i**3 for i in range(1,5)]\n",
    "li"
   ]
  },
  {
   "cell_type": "code",
   "execution_count": 3,
   "metadata": {},
   "outputs": [
    {
     "data": {
      "text/plain": [
       "[1, 2, 6, 24, 120, 720]"
      ]
     },
     "execution_count": 3,
     "metadata": {},
     "output_type": "execute_result"
    }
   ],
   "source": [
    "# Function to calculate the factorial\n",
    "\n",
    "def factorial(n):\n",
    "    if n==0 or n==1:\n",
    "        return 1\n",
    "    return n * factorial(n-1)   \n",
    "\n",
    "#apply list comprehension to calculate factorial\n",
    "\n",
    "n = 6\n",
    "fact =[factorial(i) for i in range(1,n+1)]\n",
    "fact"
   ]
  },
  {
   "cell_type": "code",
   "execution_count": 106,
   "metadata": {},
   "outputs": [
    {
     "data": {
      "text/plain": [
       "[1, 3, 6, 10]"
      ]
     },
     "execution_count": 106,
     "metadata": {},
     "output_type": "execute_result"
    }
   ],
   "source": [
    "# store cumulative sum of numbers till n in a list\n",
    "# n=3, [1,3,6]\n",
    "\n",
    "n=4\n",
    "s = [sum(range(1,i+1)) for i in range(1,n+1)]\n",
    "s\n"
   ]
  },
  {
   "cell_type": "code",
   "execution_count": 116,
   "metadata": {},
   "outputs": [
    {
     "data": {
      "text/plain": [
       "[1972, 1976, 1980, 1984, 1988, 1992, 1996, 2000, 2004, 2008, 2012, 2016]"
      ]
     },
     "execution_count": 116,
     "metadata": {},
     "output_type": "execute_result"
    }
   ],
   "source": [
    "# list comprehension to store only leap years in a given time period\n",
    "\n",
    "syear =1970\n",
    "eyear =2019\n",
    "lyear = [i for i in range(syear, eyear+1) if (i%400 ==0 and i%100!=0) or i%4 ==0]\n",
    "lyear"
   ]
  },
  {
   "cell_type": "code",
   "execution_count": 4,
   "metadata": {},
   "outputs": [
    {
     "data": {
      "text/plain": [
       "[1, 2, 3, 4]"
      ]
     },
     "execution_count": 4,
     "metadata": {},
     "output_type": "execute_result"
    }
   ],
   "source": [
    "# in - li = [1,2,3,2,1]\n",
    "# out - li =[1,2,3]\n",
    "\n",
    "li = [1,2,3,2,1,4]\n",
    "#li.sort()\n",
    "unique = [i for i in range(1,len(li)+1) if i in li]  #for diff list\n",
    "# for same list\n",
    "#u2=[]\n",
    "#unique=[]\n",
    "#unique = [li[i] for i in range(0,len(li)-1) if (li[i] != li[i+1] and i<= len(li)-1) or i == len(li)-1 ]\n",
    "\n",
    "#[u2.append(i) for i in li if not ]\n",
    "unique\n",
    "\n"
   ]
  },
  {
   "cell_type": "code",
   "execution_count": null,
   "metadata": {},
   "outputs": [],
   "source": []
  },
  {
   "cell_type": "markdown",
   "metadata": {},
   "source": [
    "## Iterators in Python\n",
    "\n",
    "   Iterable - Strings, Lists, Tuples, Sets, Dictionaries\n",
    "\n",
    "   Convert Iterable to iterator -> iter()\n",
    "   \n",
    "   For loop:\n",
    "   \n",
    "   Iterator: stops while executing"
   ]
  },
  {
   "cell_type": "code",
   "execution_count": 29,
   "metadata": {},
   "outputs": [
    {
     "name": "stdout",
     "output_type": "stream",
     "text": [
      "1:\n",
      "p\n",
      "\n",
      "\n",
      "2:\n",
      "y\n"
     ]
    }
   ],
   "source": [
    "it = iter('python')\n",
    "\n",
    "print('1:')\n",
    "print(next(it))\n",
    "print('\\n')\n",
    "print('2:')\n",
    "print(next(it))"
   ]
  },
  {
   "cell_type": "code",
   "execution_count": null,
   "metadata": {},
   "outputs": [],
   "source": []
  },
  {
   "cell_type": "markdown",
   "metadata": {},
   "source": [
    "### Generators\n",
    "\n",
    "Generator is a function "
   ]
  },
  {
   "cell_type": "code",
   "execution_count": 42,
   "metadata": {},
   "outputs": [
    {
     "name": "stdout",
     "output_type": "stream",
     "text": [
      "2\n",
      "8\n",
      "512\n"
     ]
    },
    {
     "ename": "StopIteration",
     "evalue": "",
     "output_type": "error",
     "traceback": [
      "\u001b[1;31m---------------------------------------------------------------------------\u001b[0m",
      "\u001b[1;31mStopIteration\u001b[0m                             Traceback (most recent call last)",
      "\u001b[1;32m<ipython-input-42-0332b0afe384>\u001b[0m in \u001b[0;36m<module>\u001b[1;34m\u001b[0m\n\u001b[0;32m     13\u001b[0m \u001b[0mprint\u001b[0m\u001b[1;33m(\u001b[0m\u001b[0mnext\u001b[0m\u001b[1;33m(\u001b[0m\u001b[0ma\u001b[0m\u001b[1;33m)\u001b[0m\u001b[1;33m)\u001b[0m\u001b[1;33m\u001b[0m\u001b[1;33m\u001b[0m\u001b[0m\n\u001b[0;32m     14\u001b[0m \u001b[0mprint\u001b[0m\u001b[1;33m(\u001b[0m\u001b[0mnext\u001b[0m\u001b[1;33m(\u001b[0m\u001b[0ma\u001b[0m\u001b[1;33m)\u001b[0m\u001b[1;33m)\u001b[0m\u001b[1;33m\u001b[0m\u001b[1;33m\u001b[0m\u001b[0m\n\u001b[1;32m---> 15\u001b[1;33m \u001b[0mnext\u001b[0m\u001b[1;33m(\u001b[0m\u001b[0ma\u001b[0m\u001b[1;33m)\u001b[0m\u001b[1;33m\u001b[0m\u001b[1;33m\u001b[0m\u001b[0m\n\u001b[0m",
      "\u001b[1;31mStopIteration\u001b[0m: "
     ]
    }
   ],
   "source": [
    "def generator():\n",
    "    n = 2\n",
    "    yield n\n",
    "    \n",
    "    n = n ** 3\n",
    "    yield n\n",
    "    \n",
    "    n = n ** 3\n",
    "    yield n\n",
    "    \n",
    "a= generator()\n",
    "print(next(a))\n",
    "print(next(a))\n",
    "print(next(a))\n",
    "next(a)"
   ]
  },
  {
   "cell_type": "code",
   "execution_count": 49,
   "metadata": {},
   "outputs": [
    {
     "name": "stdout",
     "output_type": "stream",
     "text": [
      "8\n",
      "512\n",
      "134217728\n",
      "2417851639229258349412352\n",
      "14134776518227074636666380005943348126619871175004951664972849610340958208\n"
     ]
    }
   ],
   "source": [
    "def generator():\n",
    "    n = 2\n",
    "    while True:\n",
    "        n **= 3\n",
    "        yield n\n",
    "    \n",
    "a= generator()\n",
    "\n",
    "\"\"\"next(a)\n",
    "b= next(a) ** 2\n",
    "b*=next(a)\n",
    "b\"\"\"\n",
    "\n",
    "for i in range(5):\n",
    "    print(next(a))"
   ]
  },
  {
   "cell_type": "code",
   "execution_count": null,
   "metadata": {},
   "outputs": [],
   "source": []
  }
 ],
 "metadata": {
  "kernelspec": {
   "display_name": "Python 3",
   "language": "python",
   "name": "python3"
  },
  "language_info": {
   "codemirror_mode": {
    "name": "ipython",
    "version": 3
   },
   "file_extension": ".py",
   "mimetype": "text/x-python",
   "name": "python",
   "nbconvert_exporter": "python",
   "pygments_lexer": "ipython3",
   "version": "3.7.3"
  }
 },
 "nbformat": 4,
 "nbformat_minor": 2
}
