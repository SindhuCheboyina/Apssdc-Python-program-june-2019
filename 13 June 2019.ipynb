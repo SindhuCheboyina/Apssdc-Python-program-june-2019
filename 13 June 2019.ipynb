{
 "cells": [
  {
   "cell_type": "markdown",
   "metadata": {},
   "source": [
    "# Advanced problem set"
   ]
  },
  {
   "cell_type": "code",
   "execution_count": 47,
   "metadata": {},
   "outputs": [
    {
     "data": {
      "text/plain": [
       "174"
      ]
     },
     "execution_count": 47,
     "metadata": {},
     "output_type": "execute_result"
    }
   ],
   "source": [
    "# Function to calculate average of all factorials in a given range\n",
    "\n",
    "def avgFactorial(n):\n",
    "    fact = 1\n",
    "    count = 0\n",
    "    sum=0\n",
    "    for i in range(2,n+1):\n",
    "        fact = fact * i\n",
    "        sum=sum + fact\n",
    "        count += 1\n",
    "        avg = sum//count\n",
    "    return avg\n",
    "        \n",
    "avgFactorial(6)"
   ]
  },
  {
   "cell_type": "code",
   "execution_count": 38,
   "metadata": {},
   "outputs": [
    {
     "name": "stdout",
     "output_type": "stream",
     "text": [
      "1 3 5 7 9 153 371 407 92727 "
     ]
    }
   ],
   "source": [
    "# function to find N odd armstrong numbers\n",
    "def arms(l,u):\n",
    "    for i in range(l,u+1):\n",
    "        n=i\n",
    "        c=len(str(n))\n",
    "        sum=0\n",
    "        temp=n\n",
    "        while(n>0):\n",
    "            arm=(n%10)**c\n",
    "            sum=sum+arm\n",
    "            n=n//10\n",
    "        if(temp==sum):\n",
    "            if(temp%2==1):\n",
    "                print(temp,end=\" \")\n",
    "    \n",
    "arms(1,100000)"
   ]
  },
  {
   "cell_type": "code",
   "execution_count": 54,
   "metadata": {},
   "outputs": [
    {
     "name": "stdout",
     "output_type": "stream",
     "text": [
      "enter number5\n",
      "5 * 1 = 5\n",
      "5 * 2 = 10\n",
      "5 * 3 = 15\n",
      "5 * 4 = 20\n",
      "5 * 5 = 25\n",
      "5 * 6 = 30\n",
      "5 * 7 = 35\n",
      "5 * 8 = 40\n",
      "5 * 9 = 45\n",
      "5 * 10 = 50\n"
     ]
    }
   ],
   "source": [
    "# Function to print multiplication table\n",
    "\n",
    "n=int(input(\"enter number\"))\n",
    "def multi(l, b):\n",
    "    for i in range(l,b+1):\n",
    "        print(n,\"*\",i,\"=\",n * i)\n",
    "        \n",
    "multi(1,10)"
   ]
  },
  {
   "cell_type": "markdown",
   "metadata": {},
   "source": [
    "## Practice set"
   ]
  },
  {
   "cell_type": "code",
   "execution_count": 84,
   "metadata": {},
   "outputs": [
    {
     "name": "stdout",
     "output_type": "stream",
     "text": [
      "500 504 508 512 516 520 524 "
     ]
    }
   ],
   "source": [
    "# Function to print the alternate values in a range in the same line\n",
    "# [500, 550] -> 500 502 504 ........ 550 \n",
    "# (500, 550) -> 501 503 505 ........ 549\n",
    "# range(500, 550) -> 500 501 502 ..... 549\n",
    "# All set based functions in Python have start value inclusive and end value exclusive\n",
    "\n",
    "def altValues(l, u):\n",
    "    for value in range(l, u+1, 4):\n",
    "        print(value, end=\" \")\n",
    "    return\n",
    "\n",
    "altValues(500, 525)"
   ]
  },
  {
   "cell_type": "code",
   "execution_count": 85,
   "metadata": {},
   "outputs": [
    {
     "name": "stdout",
     "output_type": "stream",
     "text": [
      "10 9 8 7 6 5 4 3 2 1 "
     ]
    }
   ],
   "source": [
    "# Function to print reverse of given range in the same line\n",
    "\n",
    "def reverse(l, u):\n",
    "    for value in range(u, l-1, -1):\n",
    "        print(value, end=\" \")\n",
    "    return\n",
    "\n",
    "reverse(1, 10)\n"
   ]
  },
  {
   "cell_type": "code",
   "execution_count": 83,
   "metadata": {},
   "outputs": [
    {
     "name": "stdout",
     "output_type": "stream",
     "text": [
      "199 197 195 193 191 189 187 185 183 181 179 177 175 173 171 169 167 165 163 161 159 157 155 153 151 149 147 145 143 141 139 137 135 133 131 129 127 125 123 121 119 117 115 113 111 109 107 105 103 101 "
     ]
    }
   ],
   "source": [
    "# Function to print the odd numbers in reverse order in a range\n",
    "\n",
    "def revOdd(l, u):\n",
    "    for i in range(u, l-1, -1):\n",
    "        if i % 2 != 0:\n",
    "            print(i, end=\" \")\n",
    "    return\n",
    "\n",
    "revOdd(100, 200)\n"
   ]
  },
  {
   "cell_type": "code",
   "execution_count": 82,
   "metadata": {},
   "outputs": [
    {
     "data": {
      "text/plain": [
       "15150"
      ]
     },
     "execution_count": 82,
     "metadata": {},
     "output_type": "execute_result"
    }
   ],
   "source": [
    "# Function to calculate the sum of numbers in a range\n",
    "\n",
    "def sumofNum(l, u):\n",
    "    sum = 0\n",
    "    for i in range(l, u+1):\n",
    "        sum = sum + i\n",
    "    return sum\n",
    "\n",
    "\n",
    "sumofNum(100, 200)"
   ]
  },
  {
   "cell_type": "code",
   "execution_count": 46,
   "metadata": {},
   "outputs": [
    {
     "name": "stdout",
     "output_type": "stream",
     "text": [
      "2004 2008 2012 2016 2020 "
     ]
    }
   ],
   "source": [
    "# function to generate all leap years in a given time period\n",
    "\n",
    "def isLeapYear(year):\n",
    "    if year % 4 == 0 or (year % 400 == 0 and year % 100 != 0):\n",
    "        return True\n",
    "    return False\n",
    "\n",
    "#isLeapYear(2000)\n",
    "\n",
    "\n",
    "def genLeapYear(l,b):\n",
    "    for year in range(l, b+1):\n",
    "        if isLeapYear(year):\n",
    "            print(year, end=\" \")\n",
    "    return\n",
    "    \n",
    "genLeapYear(2001, 2020)"
   ]
  },
  {
   "cell_type": "code",
   "execution_count": 63,
   "metadata": {},
   "outputs": [
    {
     "data": {
      "text/plain": [
       "366"
      ]
     },
     "execution_count": 63,
     "metadata": {},
     "output_type": "execute_result"
    }
   ],
   "source": [
    "# calculate number of days in a given time period using leap year\n",
    "# for every year in the given time period , if the year is not leap year\n",
    "\n",
    "def nofDays(sYear, eYear):\n",
    "    sum = 0\n",
    "    for year in range(sYear,eYear+1):\n",
    "        if isLeapYear(year):\n",
    "            sum = sum + 366\n",
    "        else:\n",
    "            sum = sum + 365\n",
    "    return sum\n",
    "\n",
    "nofDays(2016, 2016)"
   ]
  },
  {
   "cell_type": "code",
   "execution_count": 77,
   "metadata": {},
   "outputs": [
    {
     "data": {
      "text/plain": [
       "1464"
      ]
     },
     "execution_count": 77,
     "metadata": {},
     "output_type": "execute_result"
    }
   ],
   "source": [
    "# Function to calculate number of hours for a given period\n",
    "#numberofHours(11, 1975,3,1999) -->\n",
    "#numberofHours(5,2019, 6, 2019) -->\n",
    "#2, 2017, 6, 2019\n",
    "#No of hours = 24 * noofDays\n",
    "# 3 steps\n",
    " #1. start year to end year - calculate no of days\n",
    " #2. calculate days for all years between start year and end year\n",
    "         #  2017, 2018 - 365 * no of years\n",
    " #3. Calculate days from jan to end month year\n",
    "\n",
    "# Excluding Feb\n",
    "# First six months - 1, 3, 4, 5, 6, 7\n",
    "                   # All odd months have 31 days\n",
    "                   # All even months have 30 days\n",
    "# Last six months - 8,9,10,11,12\n",
    "                  # All even months have 31 days\n",
    "                  # All odd months have 30 days\n",
    "        \n",
    "def numofDaysMonth(month,year):\n",
    "    if(month==2):\n",
    "        if(isLeapYear(year)==True):\n",
    "            return 29\n",
    "        else:\n",
    "            return 28\n",
    "    elif (month<=7 and month%2!=0) or (month>7 and month%2==0):\n",
    "        return 31\n",
    "    \n",
    "    else:\n",
    "        return 30\n",
    "# numofDaysMonth(2,2016)\n",
    "\n",
    "def daysinSyear(sMonth, sYear):\n",
    "    days = 0\n",
    "    for month in range(sMonth, 13):\n",
    "        days +=numofDaysMonth(month, sYear)\n",
    "    return days\n",
    "\n",
    "def daysinEyear(emonth,eyear):\n",
    "    days=0\n",
    "    for month in range(1, emonth +1):\n",
    "        days+=numofDaysMonth(month, eyear)\n",
    "    return days\n",
    "\n",
    "def numofHours(sMonth, sYear, emonth, eyear):\n",
    "        days = 0\n",
    "        if sYear != eyear:\n",
    "            days += daysinSyear(sMonth,sYear)\n",
    "            days += daysinEyear(emonth,eyear)\n",
    "            if eyear - sYear == 2:\n",
    "                days += nofDays(sYear + 1, sYear+1)\n",
    "            elif eyear - sYear > 2:\n",
    "                days += nofDays(sYear +1, eyear - 1)\n",
    "        else:\n",
    "            for month in range(sMonth, emonth+1):\n",
    "                days+=numofDaysMonth(month,sYear)\n",
    "        return 24 * days\n",
    "\n",
    "\n",
    "numofHours(6,2018,7,2018)"
   ]
  },
  {
   "cell_type": "code",
   "execution_count": null,
   "metadata": {},
   "outputs": [],
   "source": []
  }
 ],
 "metadata": {
  "kernelspec": {
   "display_name": "Python 3",
   "language": "python",
   "name": "python3"
  },
  "language_info": {
   "codemirror_mode": {
    "name": "ipython",
    "version": 3
   },
   "file_extension": ".py",
   "mimetype": "text/x-python",
   "name": "python",
   "nbconvert_exporter": "python",
   "pygments_lexer": "ipython3",
   "version": "3.7.3"
  }
 },
 "nbformat": 4,
 "nbformat_minor": 2
}
