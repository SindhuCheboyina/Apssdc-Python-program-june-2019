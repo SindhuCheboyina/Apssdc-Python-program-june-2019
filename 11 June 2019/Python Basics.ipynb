{
 "cells": [
  {
   "cell_type": "markdown",
   "metadata": {},
   "source": [
    "# Python Basics\n",
    "## python version 3.7\n",
    "\n",
    "* scripting\n",
    "* object oriented \n",
    "* functional"
   ]
  },
  {
   "cell_type": "code",
   "execution_count": 5,
   "metadata": {},
   "outputs": [
    {
     "name": "stdout",
     "output_type": "stream",
     "text": [
      "good afternoo iiit hai\n"
     ]
    }
   ],
   "source": [
    "# python basics\n",
    " \n",
    "print(\"good afternoo\",\"iiit\" ,end=\" \") #to combine both print statements\n",
    "print (\"hai\")"
   ]
  },
  {
   "cell_type": "code",
   "execution_count": null,
   "metadata": {},
   "outputs": [],
   "source": []
  },
  {
   "cell_type": "markdown",
   "metadata": {},
   "source": [
    "# Assignment"
   ]
  },
  {
   "cell_type": "code",
   "execution_count": 10,
   "metadata": {},
   "outputs": [
    {
     "name": "stdout",
     "output_type": "stream",
     "text": [
      "123 234 345\n"
     ]
    }
   ],
   "source": [
    "n1= 12345678     # single line variable\n",
    "\n",
    "n2 = n3 = n4 = n1 # multi variable assignment\n",
    "\n",
    "a, b, c = 123,234,345 # multi variable assignment with different values\n",
    "\n",
    "print(a, b, c)"
   ]
  },
  {
   "cell_type": "code",
   "execution_count": null,
   "metadata": {},
   "outputs": [],
   "source": []
  },
  {
   "cell_type": "markdown",
   "metadata": {},
   "source": [
    "### Arithmetic Operations\n",
    "\n",
    "- -\n",
    "- +\n",
    "- *\n",
    "- **\n",
    "- %"
   ]
  },
  {
   "cell_type": "code",
   "execution_count": 28,
   "metadata": {},
   "outputs": [
    {
     "data": {
      "text/plain": [
       "str"
      ]
     },
     "execution_count": 28,
     "metadata": {},
     "output_type": "execute_result"
    }
   ],
   "source": [
    "n1 % 11\n",
    "\n",
    "n3 = n2 ** 123456\n",
    "\n",
    "type(n3)\n",
    "len(str(n3))\n",
    "\n",
    "atoms = 10 ** 82\n",
    "len(str(atoms))\n",
    "type(str(atoms))"
   ]
  },
  {
   "cell_type": "code",
   "execution_count": null,
   "metadata": {},
   "outputs": [],
   "source": []
  },
  {
   "cell_type": "markdown",
   "metadata": {},
   "source": [
    "## Data types\n",
    "- int\n",
    "- float\n",
    "- double\n",
    "- string"
   ]
  },
  {
   "cell_type": "code",
   "execution_count": 36,
   "metadata": {},
   "outputs": [
    {
     "data": {
      "text/plain": [
       "12.0"
      ]
     },
     "execution_count": 36,
     "metadata": {},
     "output_type": "execute_result"
    }
   ],
   "source": [
    "\n",
    "type(a)\n",
    "s1 = \"Python\"\n",
    "type(s1)\n",
    "\n",
    "f1 = 12.345\n",
    "type(f1)\n",
    "\n",
    "str(int(f1))\n",
    "float(str(int(f1)))"
   ]
  },
  {
   "cell_type": "code",
   "execution_count": null,
   "metadata": {},
   "outputs": [],
   "source": []
  },
  {
   "cell_type": "markdown",
   "metadata": {},
   "source": [
    "## Conditionals"
   ]
  },
  {
   "cell_type": "code",
   "execution_count": 38,
   "metadata": {},
   "outputs": [
    {
     "name": "stdout",
     "output_type": "stream",
     "text": [
      "FALSE\n"
     ]
    }
   ],
   "source": [
    "if(atoms < 10 ** 9):\n",
    "    print(\"TRUE\")\n",
    "else:\n",
    "    print(\"FALSE\")"
   ]
  },
  {
   "cell_type": "code",
   "execution_count": 39,
   "metadata": {},
   "outputs": [
    {
     "name": "stdout",
     "output_type": "stream",
     "text": [
      "even\n"
     ]
    }
   ],
   "source": [
    "# Check if a number is even or odd\n",
    "\n",
    "n=56\n",
    "if n % 2 == 0:\n",
    "    print(\"even\")\n",
    "else:\n",
    "    print(\"odd\")"
   ]
  },
  {
   "cell_type": "code",
   "execution_count": 47,
   "metadata": {},
   "outputs": [
    {
     "name": "stdout",
     "output_type": "stream",
     "text": [
      "enter the first number sa\n",
      "enter the second number g\n",
      "enter the third number c\n",
      "sa is greatest\n"
     ]
    }
   ],
   "source": [
    "# find the greatest of 3 numbers\n",
    "\n",
    "n1 = int(input(\"enter the first number \"))\n",
    "n2 = int(input(\"enter the second number \"))\n",
    "n3 = int(input(\"enter the third number \"))\n",
    "\n",
    "if n1 >= n2 and n1 >= n3:\n",
    "    print(n1, \"is greatest\")\n",
    "elif n2 >= n3:\n",
    "    print(n2, \"is greatest\")\n",
    "else:\n",
    "    print(n3, \"is greatest\")"
   ]
  },
  {
   "cell_type": "code",
   "execution_count": 49,
   "metadata": {},
   "outputs": [
    {
     "name": "stdout",
     "output_type": "stream",
     "text": [
      "enter a year2016\n",
      "leap year\n"
     ]
    }
   ],
   "source": [
    "# Leap Year\n",
    "\n",
    "year = eval(input(\"enter a year\"))\n",
    "if year % 4 == 0 or (year % 400 == 0 and year % 100 != 0): \n",
    "    print(\"leap year\")\n",
    "else:\n",
    "    print(\"non leap year\")\n"
   ]
  },
  {
   "cell_type": "code",
   "execution_count": 50,
   "metadata": {},
   "outputs": [
    {
     "name": "stdout",
     "output_type": "stream",
     "text": [
      "enter upper bound50\n",
      "enter lower bound10\n",
      "enter a number60\n",
      "not exist\n"
     ]
    }
   ],
   "source": [
    "# Check if a number exists in given range\n",
    "\n",
    "up = int(input(\"enter upper bound\"))\n",
    "lb = int(input(\"enter lower bound\"))\n",
    "n = int(input(\"enter a number\"))\n",
    "if n>= lb and n <= up:\n",
    "    print(n)\n",
    "else:\n",
    "    print(\"not exist\")"
   ]
  },
  {
   "cell_type": "code",
   "execution_count": 52,
   "metadata": {},
   "outputs": [
    {
     "name": "stdout",
     "output_type": "stream",
     "text": [
      "enter a number123\n",
      "3\n"
     ]
    }
   ],
   "source": [
    "# Calculate number of digits in a number\n",
    "\n",
    "n = int(input(\"enter a number\"))\n",
    "digits = 0\n",
    "\n",
    "while n!=0:\n",
    "    digits=digits+1\n",
    "    n=n//10\n",
    "print(digits)\n",
    "\n",
    "# print(str(len(n)))\n",
    "    \n",
    "    \n"
   ]
  },
  {
   "cell_type": "code",
   "execution_count": 61,
   "metadata": {},
   "outputs": [
    {
     "name": "stdout",
     "output_type": "stream",
     "text": [
      "enter a number5\n",
      "not a multiple\n"
     ]
    }
   ],
   "source": [
    "# Check if a number is multiple of 10\n",
    "n = int(input(\"enter a number\"))\n",
    "\n",
    "if(n % 10 == 0):\n",
    "    print(\"mutiple of 10\")\n",
    "else:\n",
    "    print(\"not a multiple\")\n"
   ]
  },
  {
   "cell_type": "code",
   "execution_count": 62,
   "metadata": {},
   "outputs": [
    {
     "name": "stdout",
     "output_type": "stream",
     "text": [
      "enter a number5\n",
      "5 is a factor of 1000\n"
     ]
    }
   ],
   "source": [
    "# check if a number is factor of 1000\n",
    "n = int(input(\"enter a number\"))\n",
    "\n",
    "if(1000 % n == 0):\n",
    "    print(n,\"is a factor of 1000\")\n",
    "else:\n",
    "    print(\"not a factor\")"
   ]
  },
  {
   "cell_type": "code",
   "execution_count": 53,
   "metadata": {},
   "outputs": [
    {
     "name": "stdout",
     "output_type": "stream",
     "text": [
      "enter a stringabcd\n",
      "enter a number123\n",
      "123 not equal  abcd\n"
     ]
    }
   ],
   "source": [
    "# check if given string is equal to number\n",
    "a = input(\"enter a string\")\n",
    "b=int(input(\"enter a number\"))\n",
    "if str(b) == a:\n",
    "    print(b,\"equal to \",a)\n",
    "else:\n",
    "    print(b,\"not equal \",a)\n"
   ]
  },
  {
   "cell_type": "code",
   "execution_count": 54,
   "metadata": {},
   "outputs": [
    {
     "data": {
      "text/plain": [
       "5.0"
      ]
     },
     "execution_count": 54,
     "metadata": {},
     "output_type": "execute_result"
    }
   ],
   "source": [
    "# calculate the squareroot of a number without function\n",
    "n1 = 25\n",
    "n1 ** 0.5"
   ]
  },
  {
   "cell_type": "code",
   "execution_count": 58,
   "metadata": {},
   "outputs": [
    {
     "name": "stdout",
     "output_type": "stream",
     "text": [
      "enter year2030\n",
      "31536000000000000\n"
     ]
    }
   ],
   "source": [
    "# Calculate number of nano seconds in a given year\n",
    "year = int(input(\"enter year\"))\n",
    "if year % 400 ==0 or (year % 100 !=0 and year % 4== 0):\n",
    "    print(366 * 24 * 60 * 60 * (10 ** 9))\n",
    "else:\n",
    "    print(365 * 24 * 60 * 60 * (10 ** 9))"
   ]
  },
  {
   "cell_type": "code",
   "execution_count": null,
   "metadata": {},
   "outputs": [],
   "source": []
  },
  {
   "cell_type": "code",
   "execution_count": null,
   "metadata": {},
   "outputs": [],
   "source": []
  }
 ],
 "metadata": {
  "kernelspec": {
   "display_name": "Python 3",
   "language": "python",
   "name": "python3"
  },
  "language_info": {
   "codemirror_mode": {
    "name": "ipython",
    "version": 3
   },
   "file_extension": ".py",
   "mimetype": "text/x-python",
   "name": "python",
   "nbconvert_exporter": "python",
   "pygments_lexer": "ipython3",
   "version": "3.7.3"
  }
 },
 "nbformat": 4,
 "nbformat_minor": 2
}
