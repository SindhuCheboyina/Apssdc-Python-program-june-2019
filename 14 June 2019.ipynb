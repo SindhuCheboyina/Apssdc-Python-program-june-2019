{
 "cells": [
  {
   "cell_type": "markdown",
   "metadata": {},
   "source": [
    "### Python Data Structures\n",
    " - Lists\n",
    " - Tuples\n",
    " - Dictionaries\n",
    " \n",
    " - Basic Problem set on data structures\n",
    " - Advances problem set\n",
    " - Packages and modules in Python\n",
    " "
   ]
  },
  {
   "cell_type": "markdown",
   "metadata": {},
   "source": [
    "## Python Data Structures\n",
    "\n",
    "### Lists"
   ]
  },
  {
   "cell_type": "code",
   "execution_count": 76,
   "metadata": {},
   "outputs": [
    {
     "name": "stdout",
     "output_type": "stream",
     "text": [
      "-1\n"
     ]
    }
   ],
   "source": [
    "li = [123, 978, 654]\n",
    "\n",
    "li # access the entire list\n",
    "\n",
    "li[1] #Access an element with index in a list\n",
    "\n",
    "li[1:]  # access all elements from second element\n",
    "\n",
    "li = li[::-1] # reverse the list\n",
    "\n",
    "li\n",
    "\n",
    "li = li[::-1]\n",
    "\n",
    "li[::2]  #Accessing even index elements\n",
    "\n",
    "li[1::2]\n",
    "\n",
    "# Lists can be accessed , manipulated in two ends\n",
    "       # Direct Referencing - [index]\n",
    "       # Indirect Referencing - through function \n",
    "        \n",
    "li.append(345) # Adding an element to end of list\n",
    "\n",
    "li.insert(1,234) #adding an element at a particular index\n",
    "\n",
    "li.sort() #sort elements in ascending order\n",
    "\n",
    "li.pop() # remove the last element in a list\n",
    "li\n",
    "\n",
    "li.pop(1) # remove an element at particular index\n",
    "\n",
    "li2 = [234, 456, 6776]\n",
    "\n",
    "li.extend(li2) #Merge list2 into list1\n",
    "\n",
    "sum(li) # sum of all elements in a list\n",
    "\n",
    "max(li) # maximum element in a list\n",
    "\n",
    "len(li) # number of elements in a list\n",
    "\n",
    "min(li) # minimum element\n",
    "\n",
    "max(li)-1 #\n",
    "try:\n",
    "    li.index(10000)\n",
    "except:\n",
    "    print(-1)"
   ]
  },
  {
   "cell_type": "code",
   "execution_count": 30,
   "metadata": {},
   "outputs": [
    {
     "name": "stdout",
     "output_type": "stream",
     "text": [
      "1431.3333333333333\n"
     ]
    }
   ],
   "source": [
    "# Average of list elemnts\n",
    "\n",
    "Avg = sum(li)/len(li)\n",
    "print(Avg)"
   ]
  },
  {
   "cell_type": "code",
   "execution_count": 32,
   "metadata": {},
   "outputs": [
    {
     "name": "stdout",
     "output_type": "stream",
     "text": [
      "411.0\n"
     ]
    }
   ],
   "source": [
    "# Average of all alternate elements\n",
    "\n",
    "Avg = sum(li[::2]) /len(li[::2])\n",
    "print(Avg)"
   ]
  },
  {
   "cell_type": "code",
   "execution_count": 69,
   "metadata": {},
   "outputs": [
    {
     "data": {
      "text/plain": [
       "234"
      ]
     },
     "execution_count": 69,
     "metadata": {},
     "output_type": "execute_result"
    }
   ],
   "source": [
    "# Function to identify the second largest element ina list\n",
    "    # Sort the data and select the second last element\n",
    "    # sort the data in reverse order, and select the second element\n",
    "    #Remove the max element and then get the max of the elements\n",
    "\n",
    "def secondLargest(li):\n",
    "    li.sort()\n",
    "    return li[-2]\n",
    "\n",
    "# Function that returns nth largest element\n",
    "def genericLargest(li, n):\n",
    "    li.sort()\n",
    "    return li[-n]\n",
    "\n",
    "secondLargest(li)\n",
    "genericLargest(li, 5)"
   ]
  },
  {
   "cell_type": "code",
   "execution_count": 79,
   "metadata": {},
   "outputs": [
    {
     "data": {
      "text/plain": [
       "3"
      ]
     },
     "execution_count": 79,
     "metadata": {},
     "output_type": "execute_result"
    }
   ],
   "source": [
    "# Function to search data in a list\n",
    "# Search for the key in the list and return the index value\n",
    "\n",
    "def linearSearch(li, key):\n",
    "    for index in range(0, len(li)):\n",
    "        if li[index] == key:\n",
    "            return index\n",
    "    return -1\n",
    "\n",
    "def linearSearch2(li, key):\n",
    "    for element in li:\n",
    "        if element == key:\n",
    "            return li.index(element)\n",
    "    return -1\n",
    "\n",
    "def linearSearch3(li,key):\n",
    "    if key in li:\n",
    "        return li.index(key)\n",
    "    return -1\n",
    "\n",
    "linearSearch3(li, 234)\n"
   ]
  },
  {
   "cell_type": "code",
   "execution_count": 15,
   "metadata": {},
   "outputs": [
    {
     "data": {
      "text/plain": [
       "2"
      ]
     },
     "execution_count": 15,
     "metadata": {},
     "output_type": "execute_result"
    }
   ],
   "source": [
    "#Function to count the occurances of a character in a string\n",
    "# \"python programming\", m --> 2\n",
    "\n",
    "def countCharOccurance(str, ch):\n",
    "    count = 0\n",
    "    for char in string:\n",
    "        if char ==ch:\n",
    "            count += 1\n",
    "    return count\n",
    "\n",
    "def countCharOccurance2(str,ch):\n",
    "    return str.count(ch)\n",
    "countCharOccurance2(\"python programming\", 'p')\n",
    "\n",
    "# function to find the number of occrances of a sub string.A\n",
    "def CouChaStr2(stri,subs):\n",
    "    return stri.count(subs)\n",
    "CouChaStr2(\"Pythonin Programming\",'in')\n"
   ]
  },
  {
   "cell_type": "markdown",
   "metadata": {},
   "source": [
    "## Practice test on 14-06-2019"
   ]
  },
  {
   "cell_type": "code",
   "execution_count": 3,
   "metadata": {},
   "outputs": [
    {
     "name": "stdout",
     "output_type": "stream",
     "text": [
      "3\n"
     ]
    },
    {
     "data": {
      "text/plain": [
       "14"
      ]
     },
     "execution_count": 3,
     "metadata": {},
     "output_type": "execute_result"
    }
   ],
   "source": [
    "## summation of n=1 to 3 x^2 i.e 1^2+2^2+3^2 =14\n",
    "\n",
    "n = int(input())\n",
    "def sumOfSquaresNaturalNumbers(n):\n",
    "    sum = 0\n",
    "    for i in range(1,n+1):\n",
    "        sum = sum + i ** 2\n",
    "    return sum\n",
    "\n",
    "sumOfSquaresNaturalNumbers(n)\n",
    "#print(sumOfSquaresNaturalNumbers(n))"
   ]
  },
  {
   "cell_type": "code",
   "execution_count": 6,
   "metadata": {},
   "outputs": [
    {
     "name": "stdout",
     "output_type": "stream",
     "text": [
      "3\n",
      "1 -1 2\n"
     ]
    },
    {
     "data": {
      "text/plain": [
       "1"
      ]
     },
     "execution_count": 6,
     "metadata": {},
     "output_type": "execute_result"
    }
   ],
   "source": [
    "#2nd problem first way\n",
    "#   size n  1<=n<=100 1<=ai <=100  \\ai\\  get num closet to zero and print it\n",
    "\n",
    "n = int(input())\n",
    "s = input()\n",
    "s=s.split()\n",
    "# \"1 2 3 4 5 \"\n",
    "\n",
    "li= []\n",
    "for i in s:\n",
    "    li.append(abs(int(i)))\n",
    "   \n",
    "   # -1000 -100 1 2 3 4 0\n",
    "min(li)\n"
   ]
  },
  {
   "cell_type": "code",
   "execution_count": 5,
   "metadata": {},
   "outputs": [
    {
     "name": "stdout",
     "output_type": "stream",
     "text": [
      "3\n",
      "-1 1 2 -3\n"
     ]
    },
    {
     "data": {
      "text/plain": [
       "1"
      ]
     },
     "execution_count": 5,
     "metadata": {},
     "output_type": "execute_result"
    }
   ],
   "source": [
    "\n",
    "\n",
    "## Another way\n",
    "\n",
    "n= int(input())\n",
    "s= input()\n",
    "s= s.split()\n",
    "li= []\n",
    "\n",
    "for i in s:\n",
    "    li.append(abs(int(i)))\n",
    "\n",
    "def closetZero(li):    \n",
    "    if 0 in li:\n",
    "        return 0\n",
    "    else:\n",
    "        li.sort()\n",
    "        pc = []\n",
    "        for i in li:\n",
    "            if i > 0:\n",
    "                pc.append(i)\n",
    "                for i in li:if i < 0:\n",
    "                        nc.append(i)\n",
    "                        if len(nc) == 0:\n",
    "                            return min(pc)\n",
    "                        elif len(pc) == 0: \n",
    "                            return max(nc)else:\n",
    "                            nz = max(nc)\n",
    "                            pz = min(pc)\n",
    "                            if abs(nz) > pz or abs(nz) == pz:\n",
    "                                return pz\n",
    "                            else: \n",
    "                                return nz\n",
    "    \n",
    "    \n",
    "closetZero(li)    \n"
   ]
  },
  {
   "cell_type": "code",
   "execution_count": null,
   "metadata": {},
   "outputs": [],
   "source": [
    "you have been given "
   ]
  },
  {
   "cell_type": "code",
   "execution_count": 11,
   "metadata": {},
   "outputs": [
    {
     "name": "stdout",
     "output_type": "stream",
     "text": [
      "-1\n"
     ]
    }
   ],
   "source": [
    "li = [-1,-2, 2, 3]\n",
    "\n",
    "li.sort()\n",
    "\n",
    "pl =[]\n",
    "\n",
    "for i in li:\n",
    "    pl.append(abs(i))\n",
    "              \n",
    "    \n",
    "pl.sort()\n",
    "pl\n",
    "if pl[0] in li:\n",
    "    print(pl[0])\n",
    "else:\n",
    "    print(-pl[0])"
   ]
  },
  {
   "cell_type": "markdown",
   "metadata": {},
   "source": [
    "## Farthest from Zero\n",
    "\n",
    "li = [-1, -2, 1, -10, 9]\n",
    "\n",
    "-10"
   ]
  },
  {
   "cell_type": "code",
   "execution_count": 13,
   "metadata": {},
   "outputs": [
    {
     "name": "stdout",
     "output_type": "stream",
     "text": [
      "-100\n"
     ]
    }
   ],
   "source": [
    "li = [-1,-2, 2, 3, -100]\n",
    "\n",
    "li.sort()\n",
    "\n",
    "pl =[]\n",
    "\n",
    "for i in li:\n",
    "    pl.append(abs(i))\n",
    "    \n",
    "pl.sort()\n",
    "if pl[-1] in li:\n",
    "    print(pl[-1])\n",
    "else:\n",
    "    print(-pl[-1])"
   ]
  },
  {
   "cell_type": "markdown",
   "metadata": {},
   "source": [
    "## Problem - 3\n",
    "\n",
    "you are given 3 numbers a,b,c .write a program to find the largest number which is less than or equal to c and leaves remainder b when divided by a.\n",
    "\n",
    "3 2 9\n",
    "9 % 3 == 0\n",
    "8 % 3 == 2\n",
    "\n",
    "1 2 4\n",
    "4 % 1 == 0\n",
    "3 % 1 == 0\n",
    "2 % 1 == 0\n",
    "1 % 1 == 0\n",
    "0 % 1 == 0\n",
    "-1 % 1 == 0"
   ]
  },
  {
   "cell_type": "code",
   "execution_count": 19,
   "metadata": {},
   "outputs": [
    {
     "data": {
      "text/plain": [
       "98"
      ]
     },
     "execution_count": 19,
     "metadata": {},
     "output_type": "execute_result"
    }
   ],
   "source": [
    "def cal(a,b,c):\n",
    "    for i in range(c,a-1, -1):\n",
    "        if i% a == b:\n",
    "            return i\n",
    "    return -1\n",
    "    \n",
    "cal(3, 2, 100)"
   ]
  },
  {
   "cell_type": "code",
   "execution_count": null,
   "metadata": {},
   "outputs": [],
   "source": []
  }
 ],
 "metadata": {
  "kernelspec": {
   "display_name": "Python 3",
   "language": "python",
   "name": "python3"
  },
  "language_info": {
   "codemirror_mode": {
    "name": "ipython",
    "version": 3
   },
   "file_extension": ".py",
   "mimetype": "text/x-python",
   "name": "python",
   "nbconvert_exporter": "python",
   "pygments_lexer": "ipython3",
   "version": "3.7.3"
  }
 },
 "nbformat": 4,
 "nbformat_minor": 2
}
