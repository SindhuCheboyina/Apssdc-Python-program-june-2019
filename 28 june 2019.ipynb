{
 "cells": [
  {
   "cell_type": "markdown",
   "metadata": {},
   "source": [
    "### Day objectives\n",
    "   - Map\n",
    "   - Lambda\n",
    "   - Filter\n",
    "   - Usecases - File/Data Encryption"
   ]
  },
  {
   "cell_type": "markdown",
   "metadata": {},
   "source": [
    "## Map \n",
    "\n",
    "Mapping of values (or) Mapping entity with a function.\n",
    "\n",
    "f(x) = x^2\n",
    "X:[1,5]\n",
    "y = f(x)\n",
    "\n",
    "x           y\n",
    "1           1\n",
    "2           4\n",
    "3           9\n",
    "4           16\n",
    "5           25\n",
    "\n",
    "map(function, iterable)\n",
    "map cannot be applied for condition check."
   ]
  },
  {
   "cell_type": "code",
   "execution_count": 10,
   "metadata": {},
   "outputs": [
    {
     "data": {
      "text/plain": [
       "9"
      ]
     },
     "execution_count": 10,
     "metadata": {},
     "output_type": "execute_result"
    }
   ],
   "source": [
    "def powerN(a,n):\n",
    "    r = 1\n",
    "    for i in range(0,n):\n",
    "        r *= a  \n",
    "    return r\n",
    "\n",
    "powerN(2,10)\n",
    "\n",
    "\n",
    "def recursivePower(a,n):\n",
    "    if n == 0:\n",
    "        return 1\n",
    "    else:\n",
    "        return a * recursivePower(a, n-1)\n",
    "recursivePower(3,2)"
   ]
  },
  {
   "cell_type": "code",
   "execution_count": 20,
   "metadata": {},
   "outputs": [
    {
     "data": {
      "text/plain": [
       "{1860867}"
      ]
     },
     "execution_count": 20,
     "metadata": {},
     "output_type": "execute_result"
    }
   ],
   "source": [
    "def cubepowerN(n):\n",
    "    return n ** 3\n",
    "\n",
    "li = [1,2,3,4,5,6]\n",
    "#map(cubepowerN, li)\n",
    "\n",
    "#list(map(cubepowerN, li))\n",
    "\n",
    "#set(map(cubepowerN, li))\n",
    "\n",
    "set(map(cubepowerN, [123])) # for single value"
   ]
  },
  {
   "cell_type": "code",
   "execution_count": 31,
   "metadata": {},
   "outputs": [
    {
     "data": {
      "text/plain": [
       "[1.0, 2.0, 3.0, 4.0]"
      ]
     },
     "execution_count": 31,
     "metadata": {},
     "output_type": "execute_result"
    }
   ],
   "source": [
    "#converting strings in to integers\n",
    "\n",
    "def cube(n):\n",
    "    return n ** 3\n",
    "li = [1,2,3,4]\n",
    "\n",
    "#li2 = list(map(int,li))\n",
    "\n",
    "#li2 = list(map(str,li))\n",
    "\n",
    "#li2 = list(map(float,li))\n",
    "\n",
    "li2"
   ]
  },
  {
   "cell_type": "markdown",
   "metadata": {},
   "source": [
    "### Filter\n",
    "\n",
    "Filter - Used to check boolean (True)values\n",
    "\n",
    "Applies a function to every iterable, but it should be boolean\n",
    " only applicable for single parameter"
   ]
  },
  {
   "cell_type": "code",
   "execution_count": 46,
   "metadata": {},
   "outputs": [
    {
     "data": {
      "text/plain": [
       "{1, 2, 3, 'a', 'b', 'c'}"
      ]
     },
     "execution_count": 46,
     "metadata": {},
     "output_type": "execute_result"
    }
   ],
   "source": [
    "li = [1,2,'a','b','c',3]\n",
    "\n",
    "def isDigit(c):\n",
    "    c=str(c)\n",
    "    if c.isdigit():\n",
    "        return -1\n",
    "    return 1\n",
    "\n",
    "isDigit('a')\n",
    "set(filter(isDigit, li))"
   ]
  },
  {
   "cell_type": "code",
   "execution_count": 53,
   "metadata": {},
   "outputs": [
    {
     "name": "stdout",
     "output_type": "stream",
     "text": [
      "[907, 911, 919, 929, 937, 941, 947, 953, 967, 971, 977, 983, 991, 997]\n",
      "[907, 911, 919, 929, 937, 941, 947, 953, 967, 971, 977, 983, 991, 997]\n"
     ]
    }
   ],
   "source": [
    "# Identify all primes in a given range\n",
    "\n",
    "def checkPrime(n):\n",
    "    if n<2:\n",
    "        return False\n",
    "    for i in range(2, n//2+1):\n",
    "        if n%i ==0:\n",
    "            return False\n",
    "    return True\n",
    "\n",
    "l,u = 900,1000\n",
    "listofPrimes = list(filter(checkPrime,range(l,u)))\n",
    "\n",
    "listofPrimes2 =[i for i in range(l,u+1) if checkPrime(i)]\n",
    "\n",
    "# Map fails here because it cannot be apply for checking conditions.\n",
    "print(listofPrimes)\n",
    "print(listofPrimes2)"
   ]
  },
  {
   "cell_type": "code",
   "execution_count": 54,
   "metadata": {},
   "outputs": [
    {
     "data": {
      "text/plain": [
       "[1, 8, 27, 64]"
      ]
     },
     "execution_count": 54,
     "metadata": {},
     "output_type": "execute_result"
    }
   ],
   "source": [
    "# convert all elements into integers in a list\n",
    "\n",
    "def cube(n):\n",
    "    return n ** 3\n",
    "li = ['1','2','3','4']\n",
    "\n",
    "li2 = list(map(int,li))\n",
    "\n",
    "#li2 = list(map(str,li))\n",
    "\n",
    "#li2 = list(map(float,li))\n",
    "\n",
    "tuple(map(float, li2))\n",
    "\n",
    "numbers = [int(i) for i in li]\n",
    "\n",
    "[cube(i) for i in numbers]"
   ]
  },
  {
   "cell_type": "code",
   "execution_count": null,
   "metadata": {},
   "outputs": [],
   "source": []
  },
  {
   "cell_type": "markdown",
   "metadata": {},
   "source": [
    "### Lambda\n",
    "\n",
    "Anonymous functions which are embedded into iterables(List comprehension,maps,filters)"
   ]
  },
  {
   "cell_type": "code",
   "execution_count": 67,
   "metadata": {},
   "outputs": [
    {
     "data": {
      "text/plain": [
       "[2, 4]"
      ]
     },
     "execution_count": 67,
     "metadata": {},
     "output_type": "execute_result"
    }
   ],
   "source": [
    "# even or odd\n",
    "#a = [lambda x: x%2 for x in range(1,11)]\n",
    "a = lambda x: x ** 3\n",
    "\n",
    "list(map(lambda x:x ** 3, [1,2,3,4,5,6,7]))\n",
    "list(filter(lambda x:(x % 2 == 0),[1,2,3,4,5]))"
   ]
  },
  {
   "cell_type": "code",
   "execution_count": 1,
   "metadata": {},
   "outputs": [
    {
     "data": {
      "text/plain": [
       "[11, 14, 11, 14, 10, 4, 8, 14, 8, 11]"
      ]
     },
     "execution_count": 1,
     "metadata": {},
     "output_type": "execute_result"
    }
   ],
   "source": [
    "#calculate sum all elements in two lists\n",
    "\n",
    "\n",
    "from random import randint\n",
    "\n",
    "i1marks = [randint(0,25) for i in range(10)]\n",
    "i2marks = [randint(0,25) for i in range(10)]\n",
    "i3marks = [randint(0,25) for i in range(10)]\n",
    "\n",
    "averageInternal =list(map(lambda x,y,z :(x+y+z)//3,i1marks,i2marks, i3marks) )\n",
    "averageInternal\n",
    "failedmarks=list(filter(lambda x: x<15, averageInternal))\n",
    "failedmarks"
   ]
  },
  {
   "cell_type": "code",
   "execution_count": null,
   "metadata": {},
   "outputs": [],
   "source": []
  },
  {
   "cell_type": "markdown",
   "metadata": {},
   "source": [
    "#### Applying Functional Programming to the marks analysis application\n"
   ]
  },
  {
   "cell_type": "code",
   "execution_count": 2,
   "metadata": {},
   "outputs": [],
   "source": [
    "# generate marks data \n",
    "\n",
    "from random import randint\n",
    "def genMarks(n, l, u):\n",
    "    filename = 'DataFiles/marks.txt'\n",
    "    with open(filename, 'w') as f:\n",
    "        for i in range(n):\n",
    "            marks =randint(l,u)\n",
    "            f.write(str(marks)+'\\n')\n",
    "        return   \n",
    "genMarks(50,1,100)  "
   ]
  },
  {
   "cell_type": "code",
   "execution_count": 8,
   "metadata": {},
   "outputs": [
    {
     "data": {
      "text/plain": [
       "58"
      ]
     },
     "execution_count": 8,
     "metadata": {},
     "output_type": "execute_result"
    }
   ],
   "source": [
    "# Mark Analysis\n",
    "# Class Average\n",
    "# %passes, %failed, distinction,\n",
    "# Frequency of highest and lowest\n",
    "#import re\n",
    "\n",
    "def readMarksList(filepath):\n",
    "    with open(filepath,'r') as f:\n",
    "        filedata = f.read().split()\n",
    "    return list(map(int,filedata))\n",
    "\n",
    "\n",
    "def classAvg(filepath):\n",
    "    listofMarks = readMarksList(filepath)\n",
    "    return sum(listofMarks) // len(listofMarks)\n",
    "\n",
    "filepath = 'DataFiles/marks.txt'\n",
    "classAvg(filepath)"
   ]
  },
  {
   "cell_type": "code",
   "execution_count": 9,
   "metadata": {},
   "outputs": [
    {
     "data": {
      "text/plain": [
       "24.0"
      ]
     },
     "execution_count": 9,
     "metadata": {},
     "output_type": "execute_result"
    }
   ],
   "source": [
    "def failPercentage(filepath):\n",
    "    listofMarks = readMarksList(filepath)\n",
    "    failedCount = len(list(filter(lambda mark: mark < 40, listofMarks)))\n",
    "    return failedCount / len(listofMarks) * 100\n",
    "\n",
    "failPercentage(filepath)\n",
    "    "
   ]
  },
  {
   "cell_type": "code",
   "execution_count": 20,
   "metadata": {},
   "outputs": [
    {
     "data": {
      "text/plain": [
       "76.0"
      ]
     },
     "execution_count": 20,
     "metadata": {},
     "output_type": "execute_result"
    }
   ],
   "source": [
    "def passPercentage(filepath):\n",
    "    listofMarks = readMarksList(filepath)\n",
    "    passCount = len(list(filter(lambda mark: mark > 40, listofMarks)))\n",
    "    return passCount / len(listofMarks) * 100\n",
    "\n",
    "passPercentage(filepath)\n",
    "    "
   ]
  },
  {
   "cell_type": "code",
   "execution_count": 21,
   "metadata": {},
   "outputs": [
    {
     "data": {
      "text/plain": [
       "36.0"
      ]
     },
     "execution_count": 21,
     "metadata": {},
     "output_type": "execute_result"
    }
   ],
   "source": [
    "def distinction(filepath):\n",
    "    listofMarks = readMarksList(filepath)\n",
    "    distinctionCount = len(list(filter(lambda mark: mark > 70, listofMarks)))\n",
    "    return distinctionCount / len(listofMarks) * 100\n",
    "\n",
    "distinction(filepath)"
   ]
  },
  {
   "cell_type": "code",
   "execution_count": 10,
   "metadata": {},
   "outputs": [
    {
     "data": {
      "text/plain": [
       "[1]"
      ]
     },
     "execution_count": 10,
     "metadata": {},
     "output_type": "execute_result"
    }
   ],
   "source": [
    "def highestfreq(filepath):\n",
    "    listofMarks = readMarksList(filepath)\n",
    "    return [listofMarks.count(max(listofMarks))]\n",
    "\n",
    "highestfreq(filepath)"
   ]
  },
  {
   "cell_type": "code",
   "execution_count": 11,
   "metadata": {},
   "outputs": [
    {
     "data": {
      "text/plain": [
       "[1]"
      ]
     },
     "execution_count": 11,
     "metadata": {},
     "output_type": "execute_result"
    }
   ],
   "source": [
    "def lowestfreq(filepath):\n",
    "    listofMarks = readMarksList(filepath)\n",
    "    return [listofMarks.count(min(listofMarks))]\n",
    "\n",
    "lowestfreq(filepath)"
   ]
  },
  {
   "cell_type": "code",
   "execution_count": null,
   "metadata": {},
   "outputs": [],
   "source": []
  },
  {
   "cell_type": "markdown",
   "metadata": {},
   "source": [
    "#### Data Encryption\n",
    "\n",
    "\n",
    "key - Mapping of characters with replaced data\n",
    "\n",
    "0 -> 4\n",
    "1 -> 5\n",
    "2 -> 6\n",
    "3 -> 7\n",
    "4 -> 8\n",
    "5 -> 9\n",
    "6 -> 0\n",
    "7 -> 1\n",
    "8 -> 2\n",
    "9 -> 3"
   ]
  },
  {
   "cell_type": "code",
   "execution_count": 7,
   "metadata": {},
   "outputs": [],
   "source": [
    "# Function to generate key for encryption\n",
    "keypath = 'DataFiles/key.txt'\n",
    "\n",
    "def keyGen(keypath):\n",
    "    with open(keypath,'w') as f:\n",
    "        for i in range(10):\n",
    "            if i < 6:\n",
    "                f.write(str(i)+ ' '+str(i+4)+'\\n')\n",
    "            else:\n",
    "                f.write(str(i) + ' '+str(i-6)+'\\n')\n",
    "        return        \n",
    "keyGen(keypath)"
   ]
  },
  {
   "cell_type": "code",
   "execution_count": 10,
   "metadata": {},
   "outputs": [],
   "source": [
    "# Function to encrypt data file\n",
    "\n",
    "keyfile = 'DataFiles/key.txt'\n",
    "def dictionaryKeyFile(keyfile):\n",
    "    key ={}\n",
    "    with open(keyfile, 'r') as f:\n",
    "        for line in f:\n",
    "            line = line.split()\n",
    "            key[line[0]] = line[1]\n",
    "    return key\n",
    "\n",
    "dictionaryKeyFile(keyfile)\n",
    "\n",
    "\n",
    "def encryptData(datafile, keyfile):\n",
    "    # construct a file for keydata\n",
    "    key = dictionaryKeyFile(keyfile)\n",
    "    with open(datafile,'r') as f:\n",
    "        filedata = f.read().split('\\n')\n",
    "    with open('DataFiles/encryptMarks.txt', 'w') as f:\n",
    "        for mark in filedata:\n",
    "            line = ''\n",
    "            for n in mark:\n",
    "                line += key[n]\n",
    "            f.write(line+'\\n')\n",
    "        return\n",
    "datafile ='DatafIles/marks.txt'\n",
    "encryptData(datafile,keyfile)"
   ]
  },
  {
   "cell_type": "code",
   "execution_count": 11,
   "metadata": {},
   "outputs": [],
   "source": [
    "## Decryption of data\n",
    "\n",
    "keyfile = 'DataFiles/key.txt'\n",
    "def dictionaryKeyFile(keyfile):\n",
    "    key ={}\n",
    "    with open(keyfile, 'r') as f:\n",
    "        for line in f:\n",
    "            line = line.split()\n",
    "            key[line[1]] = line[0]\n",
    "    return key\n",
    "\n",
    "dictionaryKeyFile(keyfile)\n",
    "\n",
    "\n",
    "def decryptData(datafile, keyfile):\n",
    "    # construct a file for keydata\n",
    "    key = dictionaryKeyFile(keyfile)\n",
    "    with open(datafile,'r') as f:\n",
    "        filedata = f.read().split('\\n')\n",
    "    with open('DataFiles/decryptMarks.txt', 'w') as f:\n",
    "        for mark in filedata:\n",
    "            line = ''\n",
    "            for n in mark:\n",
    "                line += key[n]\n",
    "            f.write(line+'\\n')\n",
    "        return\n",
    "datafile ='DataFiles/encryptMarks.txt'\n",
    "decryptData(datafile,keyfile)"
   ]
  },
  {
   "cell_type": "code",
   "execution_count": 12,
   "metadata": {},
   "outputs": [
    {
     "data": {
      "text/plain": [
       "{'0', '1', '2', '3', '4', '5', '6', '7', '8', '9'}"
      ]
     },
     "execution_count": 12,
     "metadata": {},
     "output_type": "execute_result"
    }
   ],
   "source": [
    "# Comprhensions\n",
    "\n",
    "keyfile = 'DataFiles/key.txt'\n",
    "key = dictionaryKeyFile(keyfile)\n",
    "\n",
    "evenkeys = {item for item in key}\n",
    "evenkeys"
   ]
  },
  {
   "cell_type": "code",
   "execution_count": null,
   "metadata": {},
   "outputs": [],
   "source": []
  }
 ],
 "metadata": {
  "kernelspec": {
   "display_name": "Python 3",
   "language": "python",
   "name": "python3"
  },
  "language_info": {
   "codemirror_mode": {
    "name": "ipython",
    "version": 3
   },
   "file_extension": ".py",
   "mimetype": "text/x-python",
   "name": "python",
   "nbconvert_exporter": "python",
   "pygments_lexer": "ipython3",
   "version": "3.7.3"
  }
 },
 "nbformat": 4,
 "nbformat_minor": 2
}
