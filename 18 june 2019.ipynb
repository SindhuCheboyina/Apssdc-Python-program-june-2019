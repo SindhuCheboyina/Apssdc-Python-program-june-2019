{
 "cells": [
  {
   "cell_type": "markdown",
   "metadata": {},
   "source": [
    "## Play with numbers\n",
    "You are given an array of n numbers and q queries. For each query you have to print the floor of the expected value(mean) of the subarray from L to R.\n",
    "\n",
    "\n",
    "First line contains two integers N and Q denoting number of array elements and number of queries.\n",
    "\n",
    "Next line contains N space seperated integers denoting array elements.\n",
    "\n",
    "Next Q lines contain two integers L and R(indices of the array).\n",
    "\n",
    "\n",
    "print a single integer denoting the answer."
   ]
  },
  {
   "cell_type": "code",
   "execution_count": 3,
   "metadata": {},
   "outputs": [
    {
     "name": "stdout",
     "output_type": "stream",
     "text": [
      "5 3\n",
      "1 2 3 4 5\n",
      "1 3\n",
      "2\n",
      "2 4\n",
      "3\n",
      "2 5\n",
      "3\n"
     ]
    }
   ],
   "source": [
    "n= input().split()\n",
    "n[0], n[1] = int(n[0]), int(n[1])\n",
    "\n",
    "#read array elements\n",
    "a= input().split()\n",
    "sum =[]  # initialise cummulative sum array\n",
    "\n",
    "# cumulative sum\n",
    "for i in range(0,n[0]):\n",
    "    if i==0:\n",
    "        sum.append(int(a[i]))\n",
    "    else:\n",
    "        sum.append(int(sum[i-1]) + int(a[i]))\n",
    "        \n",
    "del a\n",
    "#Read each query and calculate the average\n",
    "for k in range(0,n[1]):\n",
    "    inQuery = input().split()\n",
    "    i=int(inQuery[0])\n",
    "    j=int(inQuery[1])\n",
    "    if i>1:\n",
    "        print((sum[j-1] - sum[i-2]) // (j-i+1))\n",
    "    else:\n",
    "        print(sum[j-1] // (j-i+1))"
   ]
  },
  {
   "cell_type": "markdown",
   "metadata": {},
   "source": [
    "## Assessment Problem - Special number\n",
    "A special number is defined as a number which has atleast p distinct prime factors.\n",
    "\n",
    "Write a program to determine whether a number is a special number\n",
    "\n",
    "Input format : First line P\n",
    "               Second line  T (testcases)\n",
    "               next T lines N\n",
    "              \n",
    "Output Format: For each test case print yes or no depending on the result\n"
   ]
  },
  {
   "cell_type": "code",
   "execution_count": 23,
   "metadata": {},
   "outputs": [
    {
     "data": {
      "text/plain": [
       "True"
      ]
     },
     "execution_count": 23,
     "metadata": {},
     "output_type": "execute_result"
    }
   ],
   "source": [
    "# Function to determine if a number is a special number\n",
    "def isSpecialNumber(n, p):\n",
    "    if numberofPrimeFactors(n) >= p:\n",
    "        return True\n",
    "    return False\n",
    "\n",
    "# Function to check if number is prime\n",
    "def isPrime(n):\n",
    "    flag = 1\n",
    "    if n==2:\n",
    "        return True\n",
    "    for i in range(2, n//2 +1):\n",
    "        if n%i ==0:\n",
    "            flag =0\n",
    "            return False\n",
    "    if flag == 1:\n",
    "        return True\n",
    "            \n",
    "#isPrime(5)\n",
    "\n",
    "# Function to determine number of prime factors\n",
    "\n",
    "def numberofPrimeFactors(n):\n",
    "    if isPrime(n):\n",
    "        return 1\n",
    "    count = 0\n",
    "    for i in range(2, n//2 +1):\n",
    "        if isPrime(i) and n%i ==0:\n",
    "            count +=1\n",
    "    return count\n",
    "\n",
    "\n",
    "def solution2():\n",
    "    p= int(input())\n",
    "    t= int(input())\n",
    "    for i in range(0,t):\n",
    "        n= int(input())\n",
    "        if isSpecialNumber(n,p):\n",
    "            print(\"YES\")\n",
    "        else:\n",
    "            print(\"No\")\n",
    "    \n",
    "#solution2()   \n",
    "isSpecialNumber(30,2)    \n"
   ]
  },
  {
   "cell_type": "code",
   "execution_count": null,
   "metadata": {},
   "outputs": [],
   "source": []
  },
  {
   "cell_type": "markdown",
   "metadata": {},
   "source": [
    "# Tuples\n",
    "\n",
    "t1 = ()\n",
    "li = []\n",
    "\n",
    "Difference between lists and tuples\n",
    "\n",
    "Lists are mutable - can be changed / modified\n",
    " - used to access ,modify, add, delete data\n",
    " \n",
    " Tuples are immutable - cannot be changed once initialised\n",
    " - used to access data only\n",
    " - all slicing work"
   ]
  },
  {
   "cell_type": "code",
   "execution_count": 24,
   "metadata": {},
   "outputs": [
    {
     "data": {
      "text/plain": [
       "(8, 6, 0)"
      ]
     },
     "execution_count": 24,
     "metadata": {},
     "output_type": "execute_result"
    }
   ],
   "source": [
    "t1 = (1,2,8,6,0)\n",
    "\n",
    "t1[3] #Accessing the fourth element\n",
    "\n",
    "t1[len(t1) // 2:] #accessing all elements from middle to last\n",
    "\n"
   ]
  },
  {
   "cell_type": "code",
   "execution_count": 25,
   "metadata": {},
   "outputs": [
    {
     "data": {
      "text/plain": [
       "tuple"
      ]
     },
     "execution_count": 25,
     "metadata": {},
     "output_type": "execute_result"
    }
   ],
   "source": [
    "type(t1)"
   ]
  },
  {
   "cell_type": "markdown",
   "metadata": {},
   "source": [
    "# Dictionaries\n",
    "\n",
    "It works on the concept of set\n",
    "\n",
    "Keys , Values\n",
    "\n",
    "- key is a unique identifier\n",
    "- value is data that can be accessed with a key\n"
   ]
  },
  {
   "cell_type": "code",
   "execution_count": 26,
   "metadata": {},
   "outputs": [
    {
     "data": {
      "text/plain": [
       "{'k1': 'value1', 'k2': 'value2'}"
      ]
     },
     "execution_count": 26,
     "metadata": {},
     "output_type": "execute_result"
    }
   ],
   "source": [
    "d1 = {\"k1\":\"value1\", \"k2\":\"value2\"}\n",
    "\n",
    "d1[\"k2\"]     # accessing the value with the key\n",
    "d1.keys()    # returns list of all keys\n",
    "d1.values() # returns list of all values\n",
    "d1.items()  # returns list of tuples of keys and values\n",
    "d1[\"k3\"] = \"value3\"   #Adding an element to the dictionary\n",
    "\n",
    "d1[\"k3\"] = \"value4\"  # updating an element\n",
    "d1.pop(\"k3\") #removing an element\n",
    "\n",
    "\n",
    "d1\n"
   ]
  },
  {
   "cell_type": "markdown",
   "metadata": {},
   "source": [
    "### Contacts App\n",
    "- Add contact\n",
    "- Search for contact\n",
    "- list of all contacts\n",
    "    - name1 : phone1\n",
    "    - name2 : phone2\n",
    "- modify Contact\n",
    "- Remove contact\n"
   ]
  },
  {
   "cell_type": "code",
   "execution_count": 27,
   "metadata": {},
   "outputs": [
    {
     "name": "stdout",
     "output_type": "stream",
     "text": [
      "contact sin added\n"
     ]
    }
   ],
   "source": [
    "contacts = {}\n",
    "\n",
    "def addContact(name, phone):\n",
    "    #verify that the contact doesnt already exist\n",
    "    if name not in contacts:\n",
    "        contacts[name] = phone\n",
    "        print(\"contact %s added\" %name)\n",
    "    else:\n",
    "        print(\"contact %s already exists\" %name)\n",
    "    return\n",
    "\n",
    "addContact(\"sin\", 378592)"
   ]
  },
  {
   "cell_type": "code",
   "execution_count": 28,
   "metadata": {},
   "outputs": [
    {
     "data": {
      "text/plain": [
       "dict_items([('sin', 378592)])"
      ]
     },
     "execution_count": 28,
     "metadata": {},
     "output_type": "execute_result"
    }
   ],
   "source": [
    "contacts.items()"
   ]
  },
  {
   "cell_type": "code",
   "execution_count": 29,
   "metadata": {},
   "outputs": [
    {
     "name": "stdout",
     "output_type": "stream",
     "text": [
      "name10 doesnot exist\n"
     ]
    }
   ],
   "source": [
    "def searchContacts(name):\n",
    "    if name in contacts:\n",
    "        print(name,\":\", contacts[name])\n",
    "    else:\n",
    "        print(\"%s doesnot exist\" %name)\n",
    "    return\n",
    "\n",
    "searchContacts(\"name10\")"
   ]
  },
  {
   "cell_type": "code",
   "execution_count": 30,
   "metadata": {},
   "outputs": [
    {
     "name": "stdout",
     "output_type": "stream",
     "text": [
      "2 added contact\n"
     ]
    }
   ],
   "source": [
    "# New contacts is given as a dictionary\n",
    "# Merge new contacts with existing contacts\n",
    "\n",
    "def importContacts(newContacts):\n",
    "    contacts.update(newContacts)\n",
    "    print(len(newcontacts.keys()), \"added contact\")\n",
    "    return\n",
    "\n",
    "newcontacts = {\"name\":823475379, \"name2\":63587685}\n",
    "\n",
    "importContacts(newcontacts)"
   ]
  },
  {
   "cell_type": "code",
   "execution_count": 31,
   "metadata": {},
   "outputs": [
    {
     "name": "stdout",
     "output_type": "stream",
     "text": [
      "contact sin is deleted\n"
     ]
    }
   ],
   "source": [
    "# remove contact\n",
    "def delete(name):\n",
    "    if name in contacts:\n",
    "        contacts.pop(name)\n",
    "        print(\"contact %s is deleted\" %name)\n",
    "    else:\n",
    "        print(\"%s doesnt exist\")\n",
    "        \n",
    "delete(\"sin\")"
   ]
  },
  {
   "cell_type": "code",
   "execution_count": 32,
   "metadata": {},
   "outputs": [
    {
     "data": {
      "text/plain": [
       "dict_items([('name', 823475379), ('name2', 63587685)])"
      ]
     },
     "execution_count": 32,
     "metadata": {},
     "output_type": "execute_result"
    }
   ],
   "source": [
    "contacts.items()"
   ]
  },
  {
   "cell_type": "code",
   "execution_count": 37,
   "metadata": {},
   "outputs": [
    {
     "name": "stdout",
     "output_type": "stream",
     "text": [
      "contact name is added\n"
     ]
    }
   ],
   "source": [
    "# modify contact\n",
    "def modify(name):\n",
    "    if name in contacts:\n",
    "        contacts[\"name\"]=\"3675878\"\n",
    "        print(\"contact %s is added\" %name)\n",
    "    else:\n",
    "        print(\"%s doesnt exist\")\n",
    "        \n",
    "modify(\"name\")"
   ]
  },
  {
   "cell_type": "code",
   "execution_count": null,
   "metadata": {},
   "outputs": [],
   "source": []
  },
  {
   "cell_type": "markdown",
   "metadata": {},
   "source": [
    "## Packages and Modules\n",
    " - **Package** --> Collection of modules(puthon File.py) and sub packages \n",
    " - **Sub package** -->\n",
    " \n",
    " - **Module** --> A single python file containing functions\n",
    " \n",
    " Package -> Subpackages -> Modules -> Functions"
   ]
  },
  {
   "cell_type": "code",
   "execution_count": 40,
   "metadata": {},
   "outputs": [
    {
     "data": {
      "text/plain": [
       "3.141592653589793"
      ]
     },
     "execution_count": 40,
     "metadata": {},
     "output_type": "execute_result"
    }
   ],
   "source": [
    "from math import floor,pi\n",
    "\n",
    "floor(123.456)\n",
    "pi"
   ]
  },
  {
   "cell_type": "code",
   "execution_count": 41,
   "metadata": {},
   "outputs": [
    {
     "data": {
      "text/plain": [
       "123"
      ]
     },
     "execution_count": 41,
     "metadata": {},
     "output_type": "execute_result"
    }
   ],
   "source": [
    "from math import floor as fl\n",
    "\n",
    "fl(123.456)"
   ]
  },
  {
   "cell_type": "code",
   "execution_count": 42,
   "metadata": {},
   "outputs": [
    {
     "name": "stdout",
     "output_type": "stream",
     "text": [
      "52 36 75 99 95 21 29 20 55 53 "
     ]
    }
   ],
   "source": [
    "# Function to generate N random number\n",
    "\n",
    "import random\n",
    "\n",
    "def generateRandomNum(n, l, u):\n",
    "    for i in range(0,n):\n",
    "        print(random.randint(l,u), end=\" \")\n",
    "        \n",
    "generateRandomNum(10,0,100)\n"
   ]
  },
  {
   "cell_type": "code",
   "execution_count": null,
   "metadata": {},
   "outputs": [],
   "source": []
  }
 ],
 "metadata": {
  "kernelspec": {
   "display_name": "Python 3",
   "language": "python",
   "name": "python3"
  },
  "language_info": {
   "codemirror_mode": {
    "name": "ipython",
    "version": 3
   },
   "file_extension": ".py",
   "mimetype": "text/x-python",
   "name": "python",
   "nbconvert_exporter": "python",
   "pygments_lexer": "ipython3",
   "version": "3.7.3"
  }
 },
 "nbformat": 4,
 "nbformat_minor": 2
}
