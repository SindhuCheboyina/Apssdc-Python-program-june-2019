{
 "cells": [
  {
   "cell_type": "markdown",
   "metadata": {},
   "source": [
    "## Practice test Problems\n",
    "\n",
    "### Digit Frequency\n",
    "Given a string S, consisting of alphabets and digits, find the frequency of each digit in the given string\n",
    "\n",
    "Input format\n",
    "The first ;ine contains a string , num, which is the given number,\n",
    "\n",
    "constraints\n",
    "1<=len(num)<= 1000\n",
    "\n",
    "All the elements of num are made of english alphabets and digits;\n",
    "\n",
    "**output format **\n",
    "Print ten space generated integers in a single line denoting the frequency of each digit from 0 to 9\n"
   ]
  },
  {
   "cell_type": "code",
   "execution_count": 12,
   "metadata": {},
   "outputs": [
    {
     "name": "stdout",
     "output_type": "stream",
     "text": [
      "0 4 1 1 1 1 1 0 0 0 "
     ]
    }
   ],
   "source": [
    "# s= 123abc456def\n",
    "# 0 1 1 1 1 1 1 0 0 0 \n",
    "\n",
    "# s = c\n",
    "# 0 0 0 0 0 0 0 0 0\n",
    "\n",
    "# s = 1234567890\n",
    "# 1 1 1 1 1 1 1 1 1\n",
    "def uniquedata(allnumbers):\n",
    "    unique = []\n",
    "    for n in allnumbers:\n",
    "        if n not in unique:\n",
    "            unique.append(n)\n",
    "    return unique\n",
    "\n",
    "def digitFrequency1(s):\n",
    "    allnumbers = []\n",
    "    for i in s:\n",
    "        if i.isdigit():\n",
    "            allnumbers.append(i)\n",
    "    unique = uniquedata(allnumbers)        \n",
    "    for i in range(0,10):\n",
    "        if str(i) not in unique:\n",
    "            print(0, end = ' ')\n",
    "        else:\n",
    "            count = allnumbers.count(str(i))\n",
    "            print(count, end =' ')\n",
    "digitFrequency1('213abc456def111')"
   ]
  },
  {
   "cell_type": "code",
   "execution_count": 1,
   "metadata": {},
   "outputs": [],
   "source": [
    "def digitfrequency2(s):\n",
    "    for i in range(0,10):\n",
    "        count = s.count(str(i))\n",
    "        "
   ]
  },
  {
   "cell_type": "markdown",
   "metadata": {},
   "source": [
    "### Marks analysis Application\n",
    "     - generates marks file for n students\n",
    "     - input: marks text file - each line in the text file contains marks of one student\n",
    "### Generates a report with the following\n",
    "      -  class average\n",
    "      -  % of students passed\n",
    "      -  % of failed students\n",
    "      -  % of students with distinction\n",
    "      -  Highest frequency  \n",
    "      -  Lowest frequency"
   ]
  },
  {
   "cell_type": "code",
   "execution_count": 1,
   "metadata": {},
   "outputs": [],
   "source": [
    "# Function to generate marks data for n students\n",
    "\n",
    "from random import randint\n",
    "\n",
    "def generateMark(n, l, u):\n",
    "    filepath = 'DataFiles/marks.txt'\n",
    "    with open(filepath, 'w') as f:\n",
    "        for i in range(0, n):\n",
    "            r=randint(l, u)\n",
    "            f.write(str(r)+'\\n')\n",
    "    return\n",
    "generateMark(50,1,100)"
   ]
  },
  {
   "cell_type": "code",
   "execution_count": 2,
   "metadata": {},
   "outputs": [
    {
     "name": "stdout",
     "output_type": "stream",
     "text": [
      "47.48\n"
     ]
    }
   ],
   "source": [
    "# Average of a class\n",
    "def classAverage(filepath):\n",
    "    sum = 0\n",
    "    count = 0\n",
    "    with open(filepath,'r') as f:\n",
    "        for i in f:\n",
    "            sum = sum + int(i)\n",
    "            count = count + 1\n",
    "    print(sum/count)\n",
    "    \n",
    "classAverage('DataFiles/marks.txt')"
   ]
  },
  {
   "cell_type": "code",
   "execution_count": 3,
   "metadata": {},
   "outputs": [
    {
     "data": {
      "text/plain": [
       "64.0"
      ]
     },
     "execution_count": 3,
     "metadata": {},
     "output_type": "execute_result"
    }
   ],
   "source": [
    "# Pass Percentage\n",
    "def passpercentage(filepath):\n",
    "    count = 0\n",
    "    mc=0\n",
    "    with open(filepath, 'r') as f:\n",
    "        for i in f:\n",
    "            mc = mc+1\n",
    "            if(int(i) >= 35):\n",
    "                count = count + 1\n",
    "        return (count/mc) * 100\n",
    "passpercentage('DataFiles/marks.txt')"
   ]
  },
  {
   "cell_type": "code",
   "execution_count": 4,
   "metadata": {},
   "outputs": [
    {
     "name": "stdout",
     "output_type": "stream",
     "text": [
      "36.0\n"
     ]
    }
   ],
   "source": [
    "# Fail Percentage\n",
    "def Failpercentage(filepath):\n",
    "    fcount = 100 - passpercentage(filepath)\n",
    "    print(fcount)\n",
    "Failpercentage('DataFiles/marks.txt')"
   ]
  },
  {
   "cell_type": "code",
   "execution_count": 7,
   "metadata": {},
   "outputs": [
    {
     "data": {
      "text/plain": [
       "22.0"
      ]
     },
     "execution_count": 7,
     "metadata": {},
     "output_type": "execute_result"
    }
   ],
   "source": [
    "# Distinction - dis\n",
    "\n",
    "def distinction(filepath):\n",
    "    count = 0\n",
    "    mc =0\n",
    "    with open(filepath, 'r') as f:\n",
    "        for i in f:\n",
    "            mc +=1\n",
    "            if(int(i) >= 75):\n",
    "                count +=1\n",
    "        return (count/mc)*100\n",
    "    \n",
    "distinction('DataFiles/marks.txt')"
   ]
  },
  {
   "cell_type": "code",
   "execution_count": 26,
   "metadata": {},
   "outputs": [
    {
     "data": {
      "text/plain": [
       "1"
      ]
     },
     "execution_count": 26,
     "metadata": {},
     "output_type": "execute_result"
    }
   ],
   "source": [
    "# Highest mark frequency\n",
    "def frequencyHighest(filepath):\n",
    "    with open(filepath,'r') as f:\n",
    "        sp=f.read().split()\n",
    "        sp = list(map(int,sp))\n",
    "        return sp.count(max(sp))\n",
    "frequencyHighest('DataFiles/marks.txt')"
   ]
  },
  {
   "cell_type": "code",
   "execution_count": 27,
   "metadata": {},
   "outputs": [
    {
     "data": {
      "text/plain": [
       "1"
      ]
     },
     "execution_count": 27,
     "metadata": {},
     "output_type": "execute_result"
    }
   ],
   "source": [
    "# Lowest frequency\n",
    "def frequencyLowest(filepath):\n",
    "    with open(filepath,'r') as f:\n",
    "        sp=f.read().split()\n",
    "        sp = list(map(int,sp))\n",
    "        return sp.count(min(sp))\n",
    "frequencyLowest('DataFiles/marks.txt')"
   ]
  },
  {
   "cell_type": "code",
   "execution_count": null,
   "metadata": {},
   "outputs": [
    {
     "name": "stdout",
     "output_type": "stream",
     "text": [
      "choose option :\n",
      "1.Generation of marks\n",
      "2.Class Average\n",
      "3.Pass Percentage\n",
      "4.Fail percentage\n",
      "5.Distinction\n",
      "6.Highest frequency\n",
      "7.Lowest Frequency 2\n",
      "47.48\n",
      "choose option :\n",
      "1.Generation of marks\n",
      "2.Class Average\n",
      "3.Pass Percentage\n",
      "4.Fail percentage\n",
      "5.Distinction\n",
      "6.Highest frequency\n",
      "7.Lowest Frequency 5\n",
      "22.0\n"
     ]
    }
   ],
   "source": [
    "# overall report\n",
    "\n",
    "def marksReport(filepath):\n",
    "    while True:\n",
    "        n=int(input(\"choose option :\\n1.Generation of marks\\n2.Class Average\\n3.Pass Percentage\\n4.Fail percentage\\n5.Distinction\\n6.Highest frequency\\n7.Lowest Frequency \"))\n",
    "        if n==1:\n",
    "            st = int(input(\"enter no. of students\"))\n",
    "            generatemarks(50,1,100)\n",
    "        elif n==2:\n",
    "            classAverage(filepath)\n",
    "        elif n==3:\n",
    "            passpercentage(filepath)\n",
    "        elif n==4:\n",
    "            print(Failpercentage(filepath))\n",
    "        elif n==5:\n",
    "            print(distinction(filepath))\n",
    "        elif n==6:\n",
    "            print(frequencyHighest(filepath))\n",
    "        elif n==7:\n",
    "            print(frequencyLowest(filepath))\n",
    "        else:\n",
    "            break\n",
    "            \n",
    "marksReport('DataFiles/marks.txt')    \n",
    "    "
   ]
  },
  {
   "cell_type": "markdown",
   "metadata": {},
   "source": [
    "## Anagrams - hackerearth"
   ]
  },
  {
   "cell_type": "code",
   "execution_count": 6,
   "metadata": {},
   "outputs": [
    {
     "data": {
      "text/plain": [
       "5"
      ]
     },
     "execution_count": 6,
     "metadata": {},
     "output_type": "execute_result"
    }
   ],
   "source": [
    "# Function to check if two strings are anagrams\n",
    "# abc cba -> true\n",
    "# {a:1, b:1, c:1} {c:1, b:1, a:1}\n",
    "# abc abc\n",
    "# aabbcc ccbbaaa -> false\n",
    "# aabbcc aaabbcc\n",
    "# {a:2, b:2, c:2} {a:3, b:2, c:2}\n",
    "\n",
    "def checkAnagrams(s1, s2):\n",
    "    if len(s1) != len(s2):\n",
    "        return False\n",
    "    if sorted(s1) == sorted(s2):\n",
    "        return True\n",
    "    return False\n",
    "\n",
    "checkAnagrams('abc', 'bcc')\n",
    "\n",
    "\n",
    "def charDeletionAnagrams(s1, s2):\n",
    "    #to collect all uncommon characters\n",
    "    uncommon = []\n",
    "    for i in s1:\n",
    "        if i not in s2:\n",
    "            uncommon.append(i)\n",
    "    for i in s2:\n",
    "        if i not in s1:\n",
    "            uncommon.append(i)\n",
    "    count = len(uncommon)\n",
    "    \n",
    "    # freqs1 -> frequency of common characters in s1\n",
    "    freqs1 ={}\n",
    "    freqs2 ={}\n",
    "    \n",
    "    # unique characters in s1 and s2\n",
    "    uniqs1 =[]\n",
    "    uniqs2 =[]\n",
    "    \n",
    "    # frequency of unique characters\n",
    "    for i in s1:\n",
    "        if i not in uncommon and i not in uniqs1:\n",
    "            freqs1[i] = s1.count(i)\n",
    "            uniqs1.append(i)\n",
    "    for i in s2:\n",
    "        if i not in uncommon and i not in uniqs2:\n",
    "            freqs2[i] = s2.count(i)\n",
    "            uniqs2.append(i)\n",
    "    # Difference in frequencies for common characters\n",
    "    for key in freqs1.keys():\n",
    "        count +=abs(freqs1[key] - freqs2[key])\n",
    "    return count\n",
    "charDeletionAnagrams('abbcde', 'abcca')"
   ]
  },
  {
   "cell_type": "markdown",
   "metadata": {},
   "source": [
    "## Average of numbers"
   ]
  },
  {
   "cell_type": "code",
   "execution_count": null,
   "metadata": {},
   "outputs": [],
   "source": []
  },
  {
   "cell_type": "code",
   "execution_count": 7,
   "metadata": {},
   "outputs": [],
   "source": [
    "## # Frequency of a word exam problem 2\n",
    "\n",
    "#{a:4,g:9,i:6,p:213,c:6}\n",
    "#[4,6,6,9,213]\n",
    "#[213,9,6,6,4]\n",
    "# [a,c,g,i,p]\n",
    "#k=3\n",
    "#li=[]\n",
    "#for item in d.items():\n",
    "    #if item[1] == 6:\n",
    "       # li.append(item[0])\n",
    "        \n",
    "#li = [i,c]"
   ]
  },
  {
   "cell_type": "code",
   "execution_count": 6,
   "metadata": {},
   "outputs": [
    {
     "data": {
      "text/plain": [
       "'b'"
      ]
     },
     "execution_count": 6,
     "metadata": {},
     "output_type": "execute_result"
    }
   ],
   "source": [
    "def kLargestFrequency(s,k):\n",
    "    # Construct the frequency dictionary for all unique characters\n",
    "    #unique = []\n",
    "    freq = {}\n",
    "    for i in s:\n",
    "        if i not in freq.keys():\n",
    "            freq[i] = s.count(i)\n",
    "            \n",
    "    #Extract  unique frequencies in descending order\n",
    "    values = sorted(freq.values(),reverse = True) \n",
    "    uniquevalues = list(set(values))\n",
    "    uniquevalues = sorted(uniquevalues, reverse = True)\n",
    "    \n",
    "    #identify kth largest frequency \n",
    "    if k < len(freq.keys()):\n",
    "        kvalue = uniquevalues[k-1]\n",
    "    else:\n",
    "        return -1\n",
    "    #get all elements with kth largest frequency\n",
    "    li = []\n",
    "    for item in freq.items():\n",
    "        if item[1] == kvalue:\n",
    "            li.append(item[0])\n",
    "    #Minimum of kth largest frequency\n",
    "    return min(li)\n",
    "\n",
    "kLargestFrequency('aabcdcc',3)\n"
   ]
  },
  {
   "cell_type": "code",
   "execution_count": null,
   "metadata": {},
   "outputs": [],
   "source": []
  }
 ],
 "metadata": {
  "kernelspec": {
   "display_name": "Python 3",
   "language": "python",
   "name": "python3"
  },
  "language_info": {
   "codemirror_mode": {
    "name": "ipython",
    "version": 3
   },
   "file_extension": ".py",
   "mimetype": "text/x-python",
   "name": "python",
   "nbconvert_exporter": "python",
   "pygments_lexer": "ipython3",
   "version": "3.7.3"
  }
 },
 "nbformat": 4,
 "nbformat_minor": 2
}
