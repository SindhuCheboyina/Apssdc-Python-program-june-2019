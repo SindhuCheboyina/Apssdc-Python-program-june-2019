{
 "cells": [
  {
   "cell_type": "markdown",
   "metadata": {},
   "source": [
    "## Duration\n",
    "Rahul is a very busy persion he dont want to waste his time . He keeps account of duration of each and every work. Now he don't even get time to calculate duration of works, So your job is to count the durations for each work and give it to rahul.\n",
    "\n",
    " \n",
    "\n",
    "Input:\n",
    "\n",
    "First line will be given by N number of works\n",
    "Next N line will be given SH,SM,EH and EM  each separated by space(SH=starting hr, SM=starting min, EH=ending hr, EM=ending min)\n",
    "Output:\n",
    "\n",
    "N lines with duration HH MM(hours and minutes separated by space)"
   ]
  },
  {
   "cell_type": "code",
   "execution_count": 1,
   "metadata": {},
   "outputs": [
    {
     "name": "stdout",
     "output_type": "stream",
     "text": [
      "2\n",
      "1 44 2 14\n",
      "0 30\n",
      "2 42 8 20\n",
      "5 38\n"
     ]
    }
   ],
   "source": [
    "# Calculate the difference as total number of minutes\n",
    "# convert total minutes into HH MM\n",
    "def duration(s):\n",
    "    s = s.split()\n",
    "    sh = int(s[0])\n",
    "    sm = int(s[1])\n",
    "    eh = int(s[2])\n",
    "    em = int(s[3])\n",
    "    startMinutes = (sh * 60) + sm\n",
    "    endMinutes = (eh * 60) + em\n",
    "    return endMinutes -startMinutes\n",
    "\n",
    "def outputTimeFormat(minutes):\n",
    "    # convert minutes to HH Mm\n",
    "    \n",
    "    hh = minutes // 60\n",
    "    mm = minutes % 60\n",
    "    print(hh, mm)\n",
    "    return\n",
    "n = int(input())\n",
    "for i in range(0, n):\n",
    "    s = input()\n",
    "    minutes = duration(s)\n",
    "    outputTimeFormat(minutes)"
   ]
  },
  {
   "cell_type": "markdown",
   "metadata": {},
   "source": [
    "# Assessment test problems"
   ]
  },
  {
   "cell_type": "markdown",
   "metadata": {},
   "source": [
    "## Character count and number count"
   ]
  },
  {
   "cell_type": "code",
   "execution_count": 5,
   "metadata": {},
   "outputs": [
    {
     "name": "stdout",
     "output_type": "stream",
     "text": [
      "sin123\n",
      "3\n",
      "3\n"
     ]
    }
   ],
   "source": [
    "# Method 1\n",
    "\n",
    "def charndigCount(str):\n",
    "    chrCount=0\n",
    "    digCount=0\n",
    "    for i in range(0,len(str)):\n",
    "        if((str[i]>='a' and str[i]<='z') or (str[i]>='A' and str[i]<='Z')):\n",
    "            chrCount +=1\n",
    "        elif(str[i] >= '0' and str[i] <='9'):\n",
    "            digCount +=1\n",
    "    print(chrCount)\n",
    "    print(digCount)\n",
    "    \n",
    "str=input()\n",
    "charndigCount(str)"
   ]
  },
  {
   "cell_type": "code",
   "execution_count": 5,
   "metadata": {},
   "outputs": [
    {
     "name": "stdout",
     "output_type": "stream",
     "text": [
      "sin3\n",
      "3\n",
      "1\n"
     ]
    }
   ],
   "source": [
    "# Method 2 _ using ascii value\n",
    "\n",
    "def charndigCount(str):\n",
    "    chrCount=0\n",
    "    digCount=0\n",
    "    for i in range(0,len(str)):\n",
    "        if((ord(str[i])>=97 and ord(str[i])<=122) or (ord(str[i])>=65 and ord(str[i])<=90)):\n",
    "            chrCount +=1\n",
    "        elif(ord(str[i]) >= 48 and ord(str[i]) <=57):\n",
    "            digCount +=1\n",
    "    print(chrCount)\n",
    "    print(digCount)\n",
    "    \n",
    "str=input()\n",
    "charndigCount(str)"
   ]
  },
  {
   "cell_type": "markdown",
   "metadata": {},
   "source": [
    "## Perfect Number"
   ]
  },
  {
   "cell_type": "code",
   "execution_count": 1,
   "metadata": {},
   "outputs": [
    {
     "name": "stdout",
     "output_type": "stream",
     "text": [
      "1 2 4 7 14 "
     ]
    }
   ],
   "source": [
    "def perfectFact(n):\n",
    "    s=0\n",
    "    for i in range(1,n):\n",
    "        if(n%i == 0):\n",
    "            s=s+i\n",
    "            print(i, end=\" \")\n",
    "perfectFact(28)"
   ]
  },
  {
   "cell_type": "code",
   "execution_count": 1,
   "metadata": {},
   "outputs": [
    {
     "name": "stdout",
     "output_type": "stream",
     "text": [
      "3\n",
      "6\n",
      "YES\n",
      "5\n",
      "NO\n",
      "28\n",
      "YES\n"
     ]
    }
   ],
   "source": [
    "def sumFactors(n):\n",
    "    s=0\n",
    "    for i in range(1, n):\n",
    "        if n%i == 0:\n",
    "            s = s+ i\n",
    "    if(n==s):\n",
    "        return \"YES\"\n",
    "    else:\n",
    "        return \"NO\"\n",
    "testcases = int(input())\n",
    "for i in range(testcases):\n",
    "    n=int(input())\n",
    "    print(sumFactors(n))"
   ]
  },
  {
   "cell_type": "markdown",
   "metadata": {},
   "source": [
    "## highest Remainder\n",
    "Write a program to find a natural number that is smaller than N such that N gives the highest remainder.if more than one such number print smallest.\n",
    "N\n",
    "highest = 0\n",
    "x<N and n%x == highest\n",
    "\n",
    "10"
   ]
  },
  {
   "cell_type": "code",
   "execution_count": 2,
   "metadata": {},
   "outputs": [
    {
     "name": "stdout",
     "output_type": "stream",
     "text": [
      "2\n",
      "5\n",
      "4\n",
      "10\n",
      "9\n"
     ]
    }
   ],
   "source": [
    "def highRem(n):\n",
    "    r=0\n",
    "    for i in range(1,n):\n",
    "        re=n%i\n",
    "        if re > r:\n",
    "            rem=r\n",
    "            j=i\n",
    "    return j\n",
    "\n",
    "t=int(input())\n",
    "for i in range(t):\n",
    "    n=int(input())\n",
    "    print(highRem(n))"
   ]
  },
  {
   "cell_type": "code",
   "execution_count": null,
   "metadata": {},
   "outputs": [],
   "source": [
    "# Method 2\n",
    "def                                                                                                                                                                                                                                                                                                                                                       "
   ]
  },
  {
   "cell_type": "markdown",
   "metadata": {},
   "source": [
    "## Prime numbers"
   ]
  },
  {
   "cell_type": "code",
   "execution_count": 2,
   "metadata": {},
   "outputs": [
    {
     "name": "stdout",
     "output_type": "stream",
     "text": [
      "7\n"
     ]
    }
   ],
   "source": [
    "def primeNum(n):\n",
    "    c=0\n",
    "    for i in range(1, n+1):\n",
    "        if(n%i == 0):\n",
    "            c=c+1\n",
    "    if(c==2):\n",
    "        print(n)\n",
    "primeNum(7)"
   ]
  },
  {
   "cell_type": "code",
   "execution_count": 6,
   "metadata": {},
   "outputs": [
    {
     "name": "stdout",
     "output_type": "stream",
     "text": [
      "2\n",
      "3\n",
      "5\n",
      "7\n"
     ]
    }
   ],
   "source": [
    "# printing prime numbers in the range\n",
    "\n",
    "def primeNum(n1):\n",
    "    for k in range(2, n1+1):\n",
    "        n=k\n",
    "        c=0\n",
    "        for i in range(1, n+1):\n",
    "            if(n%i == 0):\n",
    "                c=c+1\n",
    "        if(c==2):\n",
    "            print(n)\n",
    "primeNum(7)\n"
   ]
  },
  {
   "cell_type": "markdown",
   "metadata": {},
   "source": []
  }
 ],
 "metadata": {
  "kernelspec": {
   "display_name": "Python 3",
   "language": "python",
   "name": "python3"
  },
  "language_info": {
   "codemirror_mode": {
    "name": "ipython",
    "version": 3
   },
   "file_extension": ".py",
   "mimetype": "text/x-python",
   "name": "python",
   "nbconvert_exporter": "python",
   "pygments_lexer": "ipython3",
   "version": "3.7.3"
  }
 },
 "nbformat": 4,
 "nbformat_minor": 2
}
